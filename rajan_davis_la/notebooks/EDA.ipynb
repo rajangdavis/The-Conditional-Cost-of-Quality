{
 "cells": [
  {
   "cell_type": "markdown",
   "metadata": {},
   "source": [
    "# Exploratory Data Analysis"
   ]
  },
  {
   "cell_type": "code",
   "execution_count": 3,
   "metadata": {},
   "outputs": [],
   "source": [
    "import pandas as pd\n",
    "import numpy as np\n",
    "import matplotlib.pyplot as plt\n",
    "\n",
    "import seaborn as sns\n",
    "from sklearn.model_selection import train_test_split, KFold, cross_val_score\n",
    "from sklearn.linear_model import LinearRegression, Lasso, Ridge, ElasticNet\n",
    "from sklearn.ensemble import RandomForestRegressor\n",
    "from sklearn.metrics import r2_score, mean_squared_error\n",
    "from sklearn.preprocessing import StandardScaler"
   ]
  },
  {
   "cell_type": "code",
   "execution_count": 4,
   "metadata": {},
   "outputs": [
    {
     "data": {
      "text/html": [
       "<div>\n",
       "<style scoped>\n",
       "    .dataframe tbody tr th:only-of-type {\n",
       "        vertical-align: middle;\n",
       "    }\n",
       "\n",
       "    .dataframe tbody tr th {\n",
       "        vertical-align: top;\n",
       "    }\n",
       "\n",
       "    .dataframe thead th {\n",
       "        text-align: right;\n",
       "    }\n",
       "</style>\n",
       "<table border=\"1\" class=\"dataframe\">\n",
       "  <thead>\n",
       "    <tr style=\"text-align: right;\">\n",
       "      <th></th>\n",
       "      <th>Id</th>\n",
       "      <th>PID</th>\n",
       "      <th>MS SubClass</th>\n",
       "      <th>MS Zoning</th>\n",
       "      <th>Lot Frontage</th>\n",
       "      <th>Lot Area</th>\n",
       "      <th>Street</th>\n",
       "      <th>Alley</th>\n",
       "      <th>Lot Shape</th>\n",
       "      <th>Land Contour</th>\n",
       "      <th>...</th>\n",
       "      <th>Screen Porch</th>\n",
       "      <th>Pool Area</th>\n",
       "      <th>Pool QC</th>\n",
       "      <th>Fence</th>\n",
       "      <th>Misc Feature</th>\n",
       "      <th>Misc Val</th>\n",
       "      <th>Mo Sold</th>\n",
       "      <th>Yr Sold</th>\n",
       "      <th>Sale Type</th>\n",
       "      <th>SalePrice</th>\n",
       "    </tr>\n",
       "  </thead>\n",
       "  <tbody>\n",
       "    <tr>\n",
       "      <th>0</th>\n",
       "      <td>109</td>\n",
       "      <td>533352170</td>\n",
       "      <td>60</td>\n",
       "      <td>RL</td>\n",
       "      <td>NaN</td>\n",
       "      <td>13517</td>\n",
       "      <td>Pave</td>\n",
       "      <td>NaN</td>\n",
       "      <td>IR1</td>\n",
       "      <td>Lvl</td>\n",
       "      <td>...</td>\n",
       "      <td>0</td>\n",
       "      <td>0</td>\n",
       "      <td>NaN</td>\n",
       "      <td>NaN</td>\n",
       "      <td>NaN</td>\n",
       "      <td>0</td>\n",
       "      <td>3</td>\n",
       "      <td>2010</td>\n",
       "      <td>WD</td>\n",
       "      <td>130500</td>\n",
       "    </tr>\n",
       "    <tr>\n",
       "      <th>1</th>\n",
       "      <td>544</td>\n",
       "      <td>531379050</td>\n",
       "      <td>60</td>\n",
       "      <td>RL</td>\n",
       "      <td>43.0</td>\n",
       "      <td>11492</td>\n",
       "      <td>Pave</td>\n",
       "      <td>NaN</td>\n",
       "      <td>IR1</td>\n",
       "      <td>Lvl</td>\n",
       "      <td>...</td>\n",
       "      <td>0</td>\n",
       "      <td>0</td>\n",
       "      <td>NaN</td>\n",
       "      <td>NaN</td>\n",
       "      <td>NaN</td>\n",
       "      <td>0</td>\n",
       "      <td>4</td>\n",
       "      <td>2009</td>\n",
       "      <td>WD</td>\n",
       "      <td>220000</td>\n",
       "    </tr>\n",
       "    <tr>\n",
       "      <th>2</th>\n",
       "      <td>153</td>\n",
       "      <td>535304180</td>\n",
       "      <td>20</td>\n",
       "      <td>RL</td>\n",
       "      <td>68.0</td>\n",
       "      <td>7922</td>\n",
       "      <td>Pave</td>\n",
       "      <td>NaN</td>\n",
       "      <td>Reg</td>\n",
       "      <td>Lvl</td>\n",
       "      <td>...</td>\n",
       "      <td>0</td>\n",
       "      <td>0</td>\n",
       "      <td>NaN</td>\n",
       "      <td>NaN</td>\n",
       "      <td>NaN</td>\n",
       "      <td>0</td>\n",
       "      <td>1</td>\n",
       "      <td>2010</td>\n",
       "      <td>WD</td>\n",
       "      <td>109000</td>\n",
       "    </tr>\n",
       "    <tr>\n",
       "      <th>3</th>\n",
       "      <td>318</td>\n",
       "      <td>916386060</td>\n",
       "      <td>60</td>\n",
       "      <td>RL</td>\n",
       "      <td>73.0</td>\n",
       "      <td>9802</td>\n",
       "      <td>Pave</td>\n",
       "      <td>NaN</td>\n",
       "      <td>Reg</td>\n",
       "      <td>Lvl</td>\n",
       "      <td>...</td>\n",
       "      <td>0</td>\n",
       "      <td>0</td>\n",
       "      <td>NaN</td>\n",
       "      <td>NaN</td>\n",
       "      <td>NaN</td>\n",
       "      <td>0</td>\n",
       "      <td>4</td>\n",
       "      <td>2010</td>\n",
       "      <td>WD</td>\n",
       "      <td>174000</td>\n",
       "    </tr>\n",
       "    <tr>\n",
       "      <th>4</th>\n",
       "      <td>255</td>\n",
       "      <td>906425045</td>\n",
       "      <td>50</td>\n",
       "      <td>RL</td>\n",
       "      <td>82.0</td>\n",
       "      <td>14235</td>\n",
       "      <td>Pave</td>\n",
       "      <td>NaN</td>\n",
       "      <td>IR1</td>\n",
       "      <td>Lvl</td>\n",
       "      <td>...</td>\n",
       "      <td>0</td>\n",
       "      <td>0</td>\n",
       "      <td>NaN</td>\n",
       "      <td>NaN</td>\n",
       "      <td>NaN</td>\n",
       "      <td>0</td>\n",
       "      <td>3</td>\n",
       "      <td>2010</td>\n",
       "      <td>WD</td>\n",
       "      <td>138500</td>\n",
       "    </tr>\n",
       "  </tbody>\n",
       "</table>\n",
       "<p>5 rows × 81 columns</p>\n",
       "</div>"
      ],
      "text/plain": [
       "    Id        PID  MS SubClass MS Zoning  Lot Frontage  Lot Area Street Alley  \\\n",
       "0  109  533352170           60        RL           NaN     13517   Pave   NaN   \n",
       "1  544  531379050           60        RL          43.0     11492   Pave   NaN   \n",
       "2  153  535304180           20        RL          68.0      7922   Pave   NaN   \n",
       "3  318  916386060           60        RL          73.0      9802   Pave   NaN   \n",
       "4  255  906425045           50        RL          82.0     14235   Pave   NaN   \n",
       "\n",
       "  Lot Shape Land Contour    ...     Screen Porch Pool Area Pool QC Fence  \\\n",
       "0       IR1          Lvl    ...                0         0     NaN   NaN   \n",
       "1       IR1          Lvl    ...                0         0     NaN   NaN   \n",
       "2       Reg          Lvl    ...                0         0     NaN   NaN   \n",
       "3       Reg          Lvl    ...                0         0     NaN   NaN   \n",
       "4       IR1          Lvl    ...                0         0     NaN   NaN   \n",
       "\n",
       "  Misc Feature Misc Val Mo Sold Yr Sold  Sale Type  SalePrice  \n",
       "0          NaN        0       3    2010        WD      130500  \n",
       "1          NaN        0       4    2009        WD      220000  \n",
       "2          NaN        0       1    2010        WD      109000  \n",
       "3          NaN        0       4    2010        WD      174000  \n",
       "4          NaN        0       3    2010        WD      138500  \n",
       "\n",
       "[5 rows x 81 columns]"
      ]
     },
     "execution_count": 4,
     "metadata": {},
     "output_type": "execute_result"
    }
   ],
   "source": [
    "df = pd.read_csv('../data/train.csv')\n",
    "df.head()"
   ]
  },
  {
   "cell_type": "code",
   "execution_count": 11,
   "metadata": {},
   "outputs": [
    {
     "name": "stdout",
     "output_type": "stream",
     "text": [
      "(2051, 81)\n",
      "\n"
     ]
    },
    {
     "data": {
      "text/plain": [
       "{'Lot Frontage': {'count': 330, 'type': 'float64'},\n",
       " 'Alley': {'count': 1911, 'type': 'object'},\n",
       " 'Mas Vnr Type': {'count': 22, 'type': 'object'},\n",
       " 'Mas Vnr Area': {'count': 22, 'type': 'float64'},\n",
       " 'Bsmt Qual': {'count': 55, 'type': 'object'},\n",
       " 'Bsmt Cond': {'count': 55, 'type': 'object'},\n",
       " 'Bsmt Exposure': {'count': 58, 'type': 'object'},\n",
       " 'BsmtFin Type 1': {'count': 55, 'type': 'object'},\n",
       " 'BsmtFin SF 1': {'count': 1, 'type': 'float64'},\n",
       " 'BsmtFin Type 2': {'count': 56, 'type': 'object'},\n",
       " 'BsmtFin SF 2': {'count': 1, 'type': 'float64'},\n",
       " 'Bsmt Unf SF': {'count': 1, 'type': 'float64'},\n",
       " 'Total Bsmt SF': {'count': 1, 'type': 'float64'},\n",
       " 'Bsmt Full Bath': {'count': 2, 'type': 'float64'},\n",
       " 'Bsmt Half Bath': {'count': 2, 'type': 'float64'},\n",
       " 'Fireplace Qu': {'count': 1000, 'type': 'object'},\n",
       " 'Garage Type': {'count': 113, 'type': 'object'},\n",
       " 'Garage Yr Blt': {'count': 114, 'type': 'float64'},\n",
       " 'Garage Finish': {'count': 114, 'type': 'object'},\n",
       " 'Garage Cars': {'count': 1, 'type': 'float64'},\n",
       " 'Garage Area': {'count': 1, 'type': 'float64'},\n",
       " 'Garage Qual': {'count': 114, 'type': 'object'},\n",
       " 'Garage Cond': {'count': 114, 'type': 'object'},\n",
       " 'Pool QC': {'count': 2042, 'type': 'object'},\n",
       " 'Fence': {'count': 1651, 'type': 'object'},\n",
       " 'Misc Feature': {'count': 1986, 'type': 'object'}}"
      ]
     },
     "execution_count": 11,
     "metadata": {},
     "output_type": "execute_result"
    }
   ],
   "source": [
    "# check for nulls\n",
    "print(df.shape)\n",
    "print()\n",
    "\n",
    "null_counts = df.isnull().sum()\n",
    "\n",
    "null_columns_with_counts = {}\n",
    "\n",
    "for key,value in null_counts.items():\n",
    "    if value > 0:\n",
    "        null_columns_with_counts[key] = {\"count\": value, \"type\": str(df[key].dtype)}\n",
    "\n",
    "null_columns_with_counts"
   ]
  },
  {
   "cell_type": "markdown",
   "metadata": {},
   "source": [
    "I created a function to set default values based on what I had seen in the CSV file for empty or \"NA\" values."
   ]
  },
  {
   "cell_type": "code",
   "execution_count": 59,
   "metadata": {},
   "outputs": [],
   "source": [
    "def clean_data(data_frame):\n",
    "    # loop through columns with null data\n",
    "    for column in ['Lot Frontage','Alley','Mas Vnr Type','Mas Vnr Area','Bsmt Qual','Bsmt Cond','Bsmt Exposure','BsmtFin Type 1','BsmtFin SF 1','BsmtFin Type 2','BsmtFin SF 2','Bsmt Unf SF','Bsmt Unf SF','Total Bsmt SF','Bsmt Full Bath','Bsmt Half Bath','Fireplace Qu','Garage Type','Garage Yr Blt','Garage Finish','Garage Cars','Garage Area','Garage Qual','Garage Cond','Fence','Misc Feature', 'Pool QC']:\n",
    "        if column in ['Lot Frontage','Mas Vnr Area','BsmtFin SF 1','BsmtFin SF 2','Bsmt Unf SF','Bsmt Unf SF','Total Bsmt SF','Bsmt Full Bath','Bsmt Half Bath','Garage Cars', 'Garage Area']:\n",
    "            data_frame[column].fillna(0, inplace=True)\n",
    "        elif column in ['Alley','Mas Vnr Type','Bsmt Qual','Bsmt Cond','Bsmt Exposure','BsmtFin Type 1','BsmtFin Type 2','Fireplace Qu','Garage Type','Garage Finish','Garage Qual','Garage Cond','Fence','Misc Feature','Pool QC']:\n",
    "            data_frame[column].fillna(\"NA\", inplace=True)\n",
    "        elif column == 'Garage Yr Blt':\n",
    "            data_frame[column].fillna(\"NA\", inplace=True)\n",
    "            data_frame[column] = data_frame[column].map(lambda x: str(x))\n",
    "\n",
    "clean_data(df)"
   ]
  },
  {
   "cell_type": "code",
   "execution_count": 74,
   "metadata": {},
   "outputs": [
    {
     "data": {
      "text/plain": [
       "0    2973.0\n",
       "1    4022.0\n",
       "2    3223.0\n",
       "3    2312.0\n",
       "4    2856.0\n",
       "Name: total_square_feet, dtype: float64"
      ]
     },
     "execution_count": 74,
     "metadata": {},
     "output_type": "execute_result"
    }
   ],
   "source": [
    "def add_up_square_feet(data_frame):\n",
    "    # Set an initital value\n",
    "    data_frame[\"total_square_feet\"] = 0\n",
    "\n",
    "    # Add up the values from the other columns minus the total column\n",
    "    for col in [col for col in data_frame.columns if \" SF\" in col]:\n",
    "        data_frame[\"total_square_feet\"] += data_frame[col]\n",
    "        \n",
    "\n",
    "# retrieve the first 5 columns\n",
    "add_up_square_feet(df)\n",
    "\n",
    "\n",
    "df[\"total_square_feet\"].head()"
   ]
  },
  {
   "cell_type": "code",
   "execution_count": 91,
   "metadata": {
    "scrolled": false
   },
   "outputs": [
    {
     "name": "stdout",
     "output_type": "stream",
     "text": [
      "[2.63885296e-03 3.79842368e-03 1.93100983e-03 3.17441107e-03\n",
      " 5.64193117e-03 2.47657619e-01 6.00223387e-03 6.21996902e-02\n",
      " 8.18172428e-03 3.85976299e-03 5.82643710e-03 7.55112879e-05\n",
      " 5.31504038e-03 3.77759996e-03 4.90897391e-03 4.92274561e-03\n",
      " 4.86607952e-05 2.25332228e-02 5.18426900e-04 7.38855365e-05\n",
      " 1.30257955e-03 1.30888851e-03 5.75032250e-04 1.25945210e-05\n",
      " 2.63353432e-03 1.33088369e-03 8.51299799e-03 8.84998070e-03\n",
      " 1.34283358e-03 2.76545395e-03 6.48917184e-04 1.35521895e-04\n",
      " 3.44361067e-03 1.52335332e-05 1.86407492e-05 2.56087809e-03\n",
      " 8.23071392e-04 5.02460641e-01 0.00000000e+00 7.58108954e-05\n",
      " 8.68591856e-05 0.00000000e+00 1.27581548e-06 5.00036897e-04\n",
      " 7.84686805e-04 9.81194103e-08 0.00000000e+00 2.90648091e-05\n",
      " 9.01061201e-05 2.56530585e-05 2.79075716e-04 1.87531405e-04\n",
      " 0.00000000e+00 7.05048064e-04 6.08980830e-05 4.86717573e-04\n",
      " 1.56015305e-05 5.97914022e-04 0.00000000e+00 0.00000000e+00\n",
      " 0.00000000e+00 1.19030677e-04 2.57532643e-04 1.91061271e-05\n",
      " 3.58078064e-06 2.84613973e-04 2.90290958e-04 6.87295767e-05\n",
      " 0.00000000e+00 2.91737227e-06 0.00000000e+00 6.20064660e-06\n",
      " 1.64675286e-06 1.97403587e-04 6.55679866e-05 1.42676921e-03\n",
      " 2.32600899e-04 4.11086936e-05 0.00000000e+00 2.29801986e-04\n",
      " 1.73633951e-05 0.00000000e+00 2.86806618e-05 3.92325084e-05\n",
      " 5.90861945e-05 2.69537799e-05 2.17470723e-05 8.40719885e-04\n",
      " 5.58883950e-05 5.19626252e-05 1.38558416e-05 4.80199503e-05\n",
      " 8.23943780e-05 7.27493578e-05 8.37691161e-04 5.02512605e-05\n",
      " 1.85900563e-05 1.59385457e-04 9.36986930e-05 8.05367071e-05\n",
      " 2.12989418e-07 6.80481434e-05 5.54991384e-07 2.06755225e-04\n",
      " 0.00000000e+00 2.45762211e-07 1.13767423e-07 2.62926766e-06\n",
      " 1.75107015e-06 3.74280693e-06 0.00000000e+00 0.00000000e+00\n",
      " 0.00000000e+00 1.87586353e-06 5.44206171e-05 2.13622363e-06\n",
      " 4.65198767e-05 1.03126603e-06 4.66491636e-05 8.92112337e-05\n",
      " 0.00000000e+00 3.87013335e-04 0.00000000e+00 6.95807118e-06\n",
      " 4.03431123e-04 3.00784194e-05 1.76237539e-04 0.00000000e+00\n",
      " 1.04189738e-04 0.00000000e+00 1.74198706e-04 3.89865897e-04\n",
      " 0.00000000e+00 0.00000000e+00 1.14637890e-05 0.00000000e+00\n",
      " 6.56237297e-06 1.15421256e-05 0.00000000e+00 1.30240461e-05\n",
      " 0.00000000e+00 2.59110365e-06 3.44297246e-04 5.43545775e-09\n",
      " 6.30581040e-05 9.53128620e-05 1.15956432e-07 1.87106899e-05\n",
      " 2.31750353e-05 0.00000000e+00 6.69386505e-05 8.09980113e-04\n",
      " 1.08599440e-05 8.43510393e-06 1.79846972e-05 0.00000000e+00\n",
      " 5.77710913e-05 1.96778800e-07 0.00000000e+00 1.72708818e-05\n",
      " 4.30651813e-05 7.76313214e-05 2.11653721e-04 1.65340025e-05\n",
      " 6.80261317e-06 5.29563788e-05 5.52500599e-04 3.14027542e-04\n",
      " 4.08333218e-05 6.64680652e-05 2.89339683e-04 2.02167364e-06\n",
      " 2.06325372e-04 4.17246081e-03 9.14877418e-05 3.11049611e-06\n",
      " 6.71552726e-04 4.71930242e-03 0.00000000e+00 9.94550052e-05\n",
      " 1.51694422e-04 0.00000000e+00 2.17421339e-04 6.00095680e-05\n",
      " 3.39787604e-04 1.59335564e-04 1.61096023e-05 0.00000000e+00\n",
      " 0.00000000e+00 4.76742898e-03 1.22852400e-05 3.58891321e-03\n",
      " 8.95945212e-07 0.00000000e+00 3.73965833e-03 0.00000000e+00\n",
      " 1.43434961e-05 4.99154270e-06 1.08202679e-06 2.03219490e-07\n",
      " 4.16750486e-05 1.69034118e-04 3.69563540e-04 3.92072620e-05\n",
      " 8.22110442e-07 1.20684340e-04 1.77254209e-04 5.54649103e-05\n",
      " 4.30855912e-04 1.16810951e-04 1.09326296e-05 6.86892679e-05\n",
      " 5.14586849e-05 2.98353345e-06 2.29829543e-06 0.00000000e+00\n",
      " 3.14335847e-06 2.70931235e-06 5.95401109e-05 2.58645000e-05\n",
      " 2.19271743e-05 1.88546598e-07 0.00000000e+00 5.31137504e-07\n",
      " 7.20233011e-11 4.11339717e-04 1.85866114e-04 1.05350205e-04\n",
      " 5.88274957e-06 2.85970552e-04 4.12377405e-04 3.55122644e-04\n",
      " 8.62511433e-05 1.54095750e-06 0.00000000e+00 0.00000000e+00\n",
      " 9.51629728e-05 9.49257986e-04 4.30162463e-05 8.44808382e-04\n",
      " 8.09916635e-03 1.34214381e-04 1.26640569e-05 6.43727569e-06\n",
      " 3.31599341e-08 8.12228984e-05 0.00000000e+00 0.00000000e+00\n",
      " 1.30660081e-04 1.44085428e-04 3.07807140e-06 8.46136631e-04\n",
      " 3.46995484e-03 4.06852707e-07 2.05403906e-04 1.06461699e-05\n",
      " 5.03042206e-04 1.69558454e-06 1.01015918e-04 0.00000000e+00\n",
      " 2.58256024e-04 7.55624864e-05 0.00000000e+00 0.00000000e+00\n",
      " 1.24219944e-07 0.00000000e+00 0.00000000e+00 0.00000000e+00\n",
      " 0.00000000e+00 0.00000000e+00 0.00000000e+00 7.74987186e-09\n",
      " 4.97955760e-05 0.00000000e+00 4.84980978e-05 2.11348386e-05\n",
      " 0.00000000e+00 0.00000000e+00 0.00000000e+00 7.82062200e-05\n",
      " 1.87062191e-06 0.00000000e+00 7.21840825e-06 7.07728371e-05\n",
      " 0.00000000e+00 0.00000000e+00 0.00000000e+00 4.99310545e-05\n",
      " 4.06085658e-05 0.00000000e+00 0.00000000e+00 0.00000000e+00\n",
      " 2.17456126e-06 5.97281566e-05 0.00000000e+00 2.39547533e-06\n",
      " 3.16223881e-05 1.46551838e-06 1.77288738e-05 3.59706130e-09\n",
      " 7.44802656e-06 2.01198933e-09 0.00000000e+00 2.41438720e-07\n",
      " 9.46882374e-06 4.36389016e-07 2.80199744e-05 1.12035282e-05\n",
      " 2.09731820e-05 1.46725193e-06 1.11846440e-05 3.19969154e-05\n",
      " 2.16009287e-06 0.00000000e+00 1.02002256e-04 1.91105764e-05\n",
      " 6.78272247e-06 1.77637743e-06 4.05011699e-06 1.39981715e-05\n",
      " 2.71434330e-07 8.16083542e-06 3.12452929e-05 1.63213715e-05\n",
      " 7.68404034e-06 1.51122264e-06 3.02175351e-05 6.36059013e-06\n",
      " 1.11576005e-05 2.70098022e-05 7.93406910e-06 0.00000000e+00\n",
      " 0.00000000e+00 0.00000000e+00 2.48511312e-06 9.05056928e-06\n",
      " 0.00000000e+00 3.28223948e-07 2.60412641e-05 9.44981773e-07\n",
      " 3.42110842e-05 0.00000000e+00 5.40174759e-09 5.83543489e-05\n",
      " 1.13725910e-06 1.78373917e-07 6.69411735e-05 3.80812635e-06\n",
      " 2.42453241e-05 1.10307869e-05 1.60837703e-06 1.10460865e-05\n",
      " 1.47889541e-05 4.04582185e-04 8.33804873e-05 8.16344781e-05\n",
      " 5.19818696e-05 7.08897489e-06 1.54894875e-04 3.35933554e-04\n",
      " 4.50887900e-07 0.00000000e+00 2.50942582e-06 1.00777219e-04\n",
      " 3.22551465e-06 4.61289042e-04 2.79638676e-04 0.00000000e+00\n",
      " 1.51335266e-04 1.30263964e-07 1.56630559e-06 0.00000000e+00\n",
      " 9.02464706e-04 0.00000000e+00 1.99428940e-05 6.08386331e-06\n",
      " 2.04565333e-06 0.00000000e+00 4.07861214e-04 1.50117413e-04\n",
      " 3.10974955e-05 1.06183100e-03 0.00000000e+00 0.00000000e+00\n",
      " 1.74840116e-03 1.72617474e-09 0.00000000e+00 2.72384766e-06\n",
      " 1.20945713e-04 4.97284225e-05 0.00000000e+00 4.38504060e-04\n",
      " 0.00000000e+00 0.00000000e+00 8.68485688e-06 0.00000000e+00\n",
      " 1.06286542e-05 0.00000000e+00 1.29863522e-04 0.00000000e+00\n",
      " 2.20599825e-07 1.24897962e-07 1.38037298e-06 0.00000000e+00\n",
      " 2.12569247e-04 0.00000000e+00 1.67900248e-03]\n",
      "Index(['Id', 'PID', 'MS SubClass', 'Lot Frontage', 'Lot Area', 'Overall Qual',\n",
      "       'Overall Cond', 'Year Built', 'Year Remod/Add', 'Mas Vnr Area',\n",
      "       ...\n",
      "       'Misc Feature_TenC', 'Sale Type_COD', 'Sale Type_CWD', 'Sale Type_Con',\n",
      "       'Sale Type_ConLD', 'Sale Type_ConLI', 'Sale Type_ConLw',\n",
      "       'Sale Type_New', 'Sale Type_Oth', 'Sale Type_WD '],\n",
      "      dtype='object', length=407)\n"
     ]
    }
   ],
   "source": [
    "X = df[['Year Built','total_square_feet','Overall Qual']]\n",
    "y = df['SalePrice']\n",
    "\n",
    "X_train,X_test, y_train, y_test = train_test_split(X, y)\n",
    "ss = StandardScaler()\n",
    "X_train_scaled = ss.fit_transform(X_train)\n",
    "X_test_scaled = ss.transform(X_test)\n",
    "rf = RandomForestRegressor()\n",
    "rf.fit(X_train, y_train)\n",
    "print(rf.score(X_test, y_test))\n",
    "rf.fit(X_train_scaled, y_train)\n",
    "print(rf.score(X_test_scaled, y_test))\n",
    "print(mean_squared_error(y_test, rf.predict(X_test)))\n",
    "print(mean_squared_error(y_test, rf.predict(X_test_scaled)))\n",
    "\n",
    "\n",
    "print(rf.feature_importances_)\n"
   ]
  },
  {
   "cell_type": "code",
   "execution_count": 82,
   "metadata": {},
   "outputs": [
    {
     "name": "stdout",
     "output_type": "stream",
     "text": [
      "0.7497779516663003\n",
      "0.7497779516663003\n",
      "2.4115664735904412e+16\n",
      "1595042588.2050862\n"
     ]
    }
   ],
   "source": [
    "\n",
    "lr.fit(X_train, y_train)\n",
    "print(lr.score(X_test, y_test))\n",
    "lr.fit(X_train_scaled, y_train)\n",
    "print(lr.score(X_test_scaled, y_test))\n",
    "print(mean_squared_error(y_test, lr.predict(X_test)))\n",
    "print(mean_squared_error(y_test, lr.predict(X_test_scaled)))"
   ]
  },
  {
   "cell_type": "code",
   "execution_count": 84,
   "metadata": {},
   "outputs": [
    {
     "name": "stdout",
     "output_type": "stream",
     "text": [
      "0.8036268652125279\n",
      "0.8126021387522205\n",
      "26912236825.331635\n",
      "1194569270.0514085\n",
      "[0.10288377 0.40087945 0.49623678]\n"
     ]
    }
   ],
   "source": [
    "rf = RandomForestRegressor()\n",
    "rf.fit(X_train, y_train)\n",
    "print(rf.score(X_test, y_test))\n",
    "rf.fit(X_train_scaled, y_train)\n",
    "print(rf.score(X_test_scaled, y_test))\n",
    "print(mean_squared_error(y_test, rf.predict(X_test)))\n",
    "print(mean_squared_error(y_test, rf.predict(X_test_scaled)))\n"
   ]
  },
  {
   "cell_type": "code",
   "execution_count": 71,
   "metadata": {},
   "outputs": [
    {
     "data": {
      "text/plain": [
       "1595032543.7364116"
      ]
     },
     "execution_count": 71,
     "metadata": {},
     "output_type": "execute_result"
    }
   ],
   "source": [
    "clf = Lasso(alpha=.05,normalize=True, max_iter=1e5)\n",
    "clf.fit(X_train_scaled,y_train)\n",
    "clf.score(X_test_scaled,y_test)\n",
    "mean_squared_error(y_test, clf.predict(X_test_scaled))"
   ]
  },
  {
   "cell_type": "code",
   "execution_count": 72,
   "metadata": {},
   "outputs": [
    {
     "data": {
      "text/plain": [
       "1594898565.4947398"
      ]
     },
     "execution_count": 72,
     "metadata": {},
     "output_type": "execute_result"
    }
   ],
   "source": [
    "rr = Ridge(alpha=1,max_iter=1e5)\n",
    "rr.fit(X_train_scaled,y_train)\n",
    "rr.score(X_test_scaled,y_test)\n",
    "mean_squared_error(y_test, rr.predict(X_test_scaled))"
   ]
  },
  {
   "cell_type": "code",
   "execution_count": 75,
   "metadata": {},
   "outputs": [
    {
     "data": {
      "text/plain": [
       "1588285653.3254771"
      ]
     },
     "execution_count": 75,
     "metadata": {},
     "output_type": "execute_result"
    }
   ],
   "source": [
    "en = ElasticNet(alpha=.1,max_iter=1e5)\n",
    "en.fit(X_train_scaled,y_train)\n",
    "en.score(X_test_scaled,y_test)\n",
    "mean_squared_error(y_test, en.predict(X_test_scaled))"
   ]
  },
  {
   "cell_type": "code",
   "execution_count": 76,
   "metadata": {},
   "outputs": [],
   "source": [
    "# Plot the charts to see how far off you are"
   ]
  },
  {
   "cell_type": "markdown",
   "metadata": {},
   "source": [
    "Finally, I fitted the kaggle test data, created a file, and uploaded the submission via the kaggle CLI."
   ]
  },
  {
   "cell_type": "code",
   "execution_count": 78,
   "metadata": {},
   "outputs": [],
   "source": [
    "# https://www.kaggle.com/dansbecker/submitting-from-a-kernel\n",
    "# Read the test data\n",
    "test = pd.read_csv('../data/test.csv')\n",
    "clean_data(test)\n",
    "add_up_square_feet(test)\n",
    "\n",
    "# Treat the test data in the same way as training data. In this case, pull same columns.\n",
    "test_X = test[['Year Built','total_square_feet','Overall Qual']]\n",
    "scaled_test_X = ss.transform(test_X)\n",
    "\n",
    "# # Use the model to make predictions\n",
    "predicted_prices = en.predict(scaled_test_X)\n",
    "my_submission = pd.DataFrame({'Id': test.Id, 'SalePrice': predicted_prices})\n",
    "\n",
    "file_name = '../submissions/kaggle.csv'\n",
    "my_submission.to_csv(file_name, index=False)"
   ]
  },
  {
   "cell_type": "code",
   "execution_count": 79,
   "metadata": {},
   "outputs": [],
   "source": [
    "import subprocess, webbrowser\n",
    "result = subprocess.check_output(f'kaggle competitions submit -f {file_name} -m \"uploading a new set\" dsi-us-5-project-2-regression-challenge')\n",
    "if result == b'Successfully submitted to DSI-US-5 Project 2 Regression Challenge':\n",
    "    webbrowser.open(\"https://www.kaggle.com/c/dsi-us-5-project-2-regression-challenge/leaderboard\")\n",
    "else:\n",
    "    print(result)"
   ]
  }
 ],
 "metadata": {
  "kernelspec": {
   "display_name": "Python 3",
   "language": "python",
   "name": "python3"
  },
  "language_info": {
   "codemirror_mode": {
    "name": "ipython",
    "version": 3
   },
   "file_extension": ".py",
   "mimetype": "text/x-python",
   "name": "python",
   "nbconvert_exporter": "python",
   "pygments_lexer": "ipython3",
   "version": "3.6.5"
  }
 },
 "nbformat": 4,
 "nbformat_minor": 2
}
