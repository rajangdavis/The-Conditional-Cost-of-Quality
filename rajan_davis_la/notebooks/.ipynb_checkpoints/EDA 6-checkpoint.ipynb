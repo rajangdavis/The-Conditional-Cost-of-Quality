{
 "cells": [
  {
   "cell_type": "markdown",
   "metadata": {},
   "source": [
    "# Linear Regression Exploration"
   ]
  },
  {
   "cell_type": "markdown",
   "metadata": {},
   "source": [
    "I am walking through this again with fresh eyes to see if I can get a better score than when I first submitted this in the kaggle competition.\n",
    "<hr>"
   ]
  },
  {
   "cell_type": "markdown",
   "metadata": {},
   "source": [
    "These are my dependencies; the first four are for manipulating and plotting the data. I don't want to use seaborn, but it's really handy for heatmaps and pairplots which I may need later on.\n",
    "\n",
    "The rest are for the linear regression modeling. I should probably take a look at a few other models (most notably Gradient Boost and Adaboost), but can add those later on."
   ]
  },
  {
   "cell_type": "code",
   "execution_count": 154,
   "metadata": {},
   "outputs": [],
   "source": [
    "import pandas as pd\n",
    "import numpy as np\n",
    "import matplotlib.pyplot as plt\n",
    "import seaborn as sns\n",
    "\n",
    "from sklearn.model_selection import train_test_split, GridSearchCV\n",
    "from sklearn.linear_model import LinearRegression, Lasso, Ridge, ElasticNet\n",
    "from sklearn.ensemble import RandomForestRegressor, GradientBoostingRegressor, AdaBoostRegressor\n",
    "from sklearn.metrics import mean_squared_error\n",
    "from sklearn.preprocessing import StandardScaler, LabelEncoder"
   ]
  },
  {
   "cell_type": "markdown",
   "metadata": {},
   "source": [
    "## 1. Reading and cleaning data"
   ]
  },
  {
   "cell_type": "markdown",
   "metadata": {},
   "source": [
    "I need to get rid of features where there are just too many null values. These don't help with predicting prices; they are noise (at least that is my assumption)."
   ]
  },
  {
   "cell_type": "code",
   "execution_count": 155,
   "metadata": {},
   "outputs": [
    {
     "data": {
      "text/html": [
       "<div>\n",
       "<style scoped>\n",
       "    .dataframe tbody tr th:only-of-type {\n",
       "        vertical-align: middle;\n",
       "    }\n",
       "\n",
       "    .dataframe tbody tr th {\n",
       "        vertical-align: top;\n",
       "    }\n",
       "\n",
       "    .dataframe thead th {\n",
       "        text-align: right;\n",
       "    }\n",
       "</style>\n",
       "<table border=\"1\" class=\"dataframe\">\n",
       "  <thead>\n",
       "    <tr style=\"text-align: right;\">\n",
       "      <th></th>\n",
       "      <th>Id</th>\n",
       "      <th>PID</th>\n",
       "      <th>MS SubClass</th>\n",
       "      <th>MS Zoning</th>\n",
       "      <th>Lot Frontage</th>\n",
       "      <th>Lot Area</th>\n",
       "      <th>Street</th>\n",
       "      <th>Alley</th>\n",
       "      <th>Lot Shape</th>\n",
       "      <th>Land Contour</th>\n",
       "      <th>...</th>\n",
       "      <th>Screen Porch</th>\n",
       "      <th>Pool Area</th>\n",
       "      <th>Pool QC</th>\n",
       "      <th>Fence</th>\n",
       "      <th>Misc Feature</th>\n",
       "      <th>Misc Val</th>\n",
       "      <th>Mo Sold</th>\n",
       "      <th>Yr Sold</th>\n",
       "      <th>Sale Type</th>\n",
       "      <th>SalePrice</th>\n",
       "    </tr>\n",
       "  </thead>\n",
       "  <tbody>\n",
       "    <tr>\n",
       "      <th>0</th>\n",
       "      <td>109</td>\n",
       "      <td>533352170</td>\n",
       "      <td>60</td>\n",
       "      <td>RL</td>\n",
       "      <td>NaN</td>\n",
       "      <td>13517</td>\n",
       "      <td>Pave</td>\n",
       "      <td>NaN</td>\n",
       "      <td>IR1</td>\n",
       "      <td>Lvl</td>\n",
       "      <td>...</td>\n",
       "      <td>0</td>\n",
       "      <td>0</td>\n",
       "      <td>NaN</td>\n",
       "      <td>NaN</td>\n",
       "      <td>NaN</td>\n",
       "      <td>0</td>\n",
       "      <td>3</td>\n",
       "      <td>2010</td>\n",
       "      <td>WD</td>\n",
       "      <td>130500</td>\n",
       "    </tr>\n",
       "    <tr>\n",
       "      <th>1</th>\n",
       "      <td>544</td>\n",
       "      <td>531379050</td>\n",
       "      <td>60</td>\n",
       "      <td>RL</td>\n",
       "      <td>43.0</td>\n",
       "      <td>11492</td>\n",
       "      <td>Pave</td>\n",
       "      <td>NaN</td>\n",
       "      <td>IR1</td>\n",
       "      <td>Lvl</td>\n",
       "      <td>...</td>\n",
       "      <td>0</td>\n",
       "      <td>0</td>\n",
       "      <td>NaN</td>\n",
       "      <td>NaN</td>\n",
       "      <td>NaN</td>\n",
       "      <td>0</td>\n",
       "      <td>4</td>\n",
       "      <td>2009</td>\n",
       "      <td>WD</td>\n",
       "      <td>220000</td>\n",
       "    </tr>\n",
       "    <tr>\n",
       "      <th>2</th>\n",
       "      <td>153</td>\n",
       "      <td>535304180</td>\n",
       "      <td>20</td>\n",
       "      <td>RL</td>\n",
       "      <td>68.0</td>\n",
       "      <td>7922</td>\n",
       "      <td>Pave</td>\n",
       "      <td>NaN</td>\n",
       "      <td>Reg</td>\n",
       "      <td>Lvl</td>\n",
       "      <td>...</td>\n",
       "      <td>0</td>\n",
       "      <td>0</td>\n",
       "      <td>NaN</td>\n",
       "      <td>NaN</td>\n",
       "      <td>NaN</td>\n",
       "      <td>0</td>\n",
       "      <td>1</td>\n",
       "      <td>2010</td>\n",
       "      <td>WD</td>\n",
       "      <td>109000</td>\n",
       "    </tr>\n",
       "    <tr>\n",
       "      <th>3</th>\n",
       "      <td>318</td>\n",
       "      <td>916386060</td>\n",
       "      <td>60</td>\n",
       "      <td>RL</td>\n",
       "      <td>73.0</td>\n",
       "      <td>9802</td>\n",
       "      <td>Pave</td>\n",
       "      <td>NaN</td>\n",
       "      <td>Reg</td>\n",
       "      <td>Lvl</td>\n",
       "      <td>...</td>\n",
       "      <td>0</td>\n",
       "      <td>0</td>\n",
       "      <td>NaN</td>\n",
       "      <td>NaN</td>\n",
       "      <td>NaN</td>\n",
       "      <td>0</td>\n",
       "      <td>4</td>\n",
       "      <td>2010</td>\n",
       "      <td>WD</td>\n",
       "      <td>174000</td>\n",
       "    </tr>\n",
       "    <tr>\n",
       "      <th>4</th>\n",
       "      <td>255</td>\n",
       "      <td>906425045</td>\n",
       "      <td>50</td>\n",
       "      <td>RL</td>\n",
       "      <td>82.0</td>\n",
       "      <td>14235</td>\n",
       "      <td>Pave</td>\n",
       "      <td>NaN</td>\n",
       "      <td>IR1</td>\n",
       "      <td>Lvl</td>\n",
       "      <td>...</td>\n",
       "      <td>0</td>\n",
       "      <td>0</td>\n",
       "      <td>NaN</td>\n",
       "      <td>NaN</td>\n",
       "      <td>NaN</td>\n",
       "      <td>0</td>\n",
       "      <td>3</td>\n",
       "      <td>2010</td>\n",
       "      <td>WD</td>\n",
       "      <td>138500</td>\n",
       "    </tr>\n",
       "  </tbody>\n",
       "</table>\n",
       "<p>5 rows × 81 columns</p>\n",
       "</div>"
      ],
      "text/plain": [
       "    Id        PID  MS SubClass MS Zoning  Lot Frontage  Lot Area Street Alley  \\\n",
       "0  109  533352170           60        RL           NaN     13517   Pave   NaN   \n",
       "1  544  531379050           60        RL          43.0     11492   Pave   NaN   \n",
       "2  153  535304180           20        RL          68.0      7922   Pave   NaN   \n",
       "3  318  916386060           60        RL          73.0      9802   Pave   NaN   \n",
       "4  255  906425045           50        RL          82.0     14235   Pave   NaN   \n",
       "\n",
       "  Lot Shape Land Contour    ...     Screen Porch Pool Area Pool QC Fence  \\\n",
       "0       IR1          Lvl    ...                0         0     NaN   NaN   \n",
       "1       IR1          Lvl    ...                0         0     NaN   NaN   \n",
       "2       Reg          Lvl    ...                0         0     NaN   NaN   \n",
       "3       Reg          Lvl    ...                0         0     NaN   NaN   \n",
       "4       IR1          Lvl    ...                0         0     NaN   NaN   \n",
       "\n",
       "  Misc Feature Misc Val Mo Sold Yr Sold  Sale Type  SalePrice  \n",
       "0          NaN        0       3    2010        WD      130500  \n",
       "1          NaN        0       4    2009        WD      220000  \n",
       "2          NaN        0       1    2010        WD      109000  \n",
       "3          NaN        0       4    2010        WD      174000  \n",
       "4          NaN        0       3    2010        WD      138500  \n",
       "\n",
       "[5 rows x 81 columns]"
      ]
     },
     "execution_count": 155,
     "metadata": {},
     "output_type": "execute_result"
    }
   ],
   "source": [
    "df = pd.read_csv('../data/train.csv')\n",
    "df.head()"
   ]
  },
  {
   "cell_type": "code",
   "execution_count": 156,
   "metadata": {},
   "outputs": [
    {
     "data": {
      "text/plain": [
       "(2051, 81)"
      ]
     },
     "execution_count": 156,
     "metadata": {},
     "output_type": "execute_result"
    }
   ],
   "source": [
    "df.shape"
   ]
  },
  {
   "cell_type": "code",
   "execution_count": 157,
   "metadata": {},
   "outputs": [
    {
     "data": {
      "text/plain": [
       "Lot Frontage       330\n",
       "Alley             1911\n",
       "Mas Vnr Type        22\n",
       "Mas Vnr Area        22\n",
       "Bsmt Qual           55\n",
       "Bsmt Cond           55\n",
       "Bsmt Exposure       58\n",
       "BsmtFin Type 1      55\n",
       "BsmtFin SF 1         1\n",
       "BsmtFin Type 2      56\n",
       "BsmtFin SF 2         1\n",
       "Bsmt Unf SF          1\n",
       "Total Bsmt SF        1\n",
       "Bsmt Full Bath       2\n",
       "Bsmt Half Bath       2\n",
       "Fireplace Qu      1000\n",
       "Garage Type        113\n",
       "Garage Yr Blt      114\n",
       "Garage Finish      114\n",
       "Garage Cars          1\n",
       "Garage Area          1\n",
       "Garage Qual        114\n",
       "Garage Cond        114\n",
       "Pool QC           2042\n",
       "Fence             1651\n",
       "Misc Feature      1986\n",
       "dtype: int64"
      ]
     },
     "execution_count": 157,
     "metadata": {},
     "output_type": "execute_result"
    }
   ],
   "source": [
    "df.isnull().sum()[df.isnull().sum() > 0]"
   ]
  },
  {
   "cell_type": "markdown",
   "metadata": {},
   "source": [
    "After some analysis, I am going to fill these values with NA for now, can always drop these later on..."
   ]
  },
  {
   "cell_type": "code",
   "execution_count": 158,
   "metadata": {},
   "outputs": [],
   "source": [
    "df['Fireplace Qu'].fillna(\"NA\", inplace=True)\n",
    "df['Pool QC'].fillna(\"NA\", inplace=True)"
   ]
  },
  {
   "cell_type": "markdown",
   "metadata": {},
   "source": [
    "I want to drop features with 1000ish missing values. This will get the column values that I will want to drop"
   ]
  },
  {
   "cell_type": "code",
   "execution_count": 159,
   "metadata": {},
   "outputs": [],
   "source": [
    "columns_to_drop = df.isnull().sum()[df.isnull().sum() > 330].index.tolist()"
   ]
  },
  {
   "cell_type": "code",
   "execution_count": 160,
   "metadata": {},
   "outputs": [],
   "source": [
    "df.drop(columns=columns_to_drop, inplace=True)"
   ]
  },
  {
   "cell_type": "code",
   "execution_count": 161,
   "metadata": {},
   "outputs": [
    {
     "data": {
      "text/plain": [
       "(2051, 78)"
      ]
     },
     "execution_count": 161,
     "metadata": {},
     "output_type": "execute_result"
    }
   ],
   "source": [
    "df.shape"
   ]
  },
  {
   "cell_type": "markdown",
   "metadata": {},
   "source": [
    "I will take another look at the features with null values and see how I can fill these in."
   ]
  },
  {
   "cell_type": "code",
   "execution_count": 162,
   "metadata": {},
   "outputs": [
    {
     "data": {
      "text/plain": [
       "Lot Frontage      330\n",
       "Mas Vnr Type       22\n",
       "Mas Vnr Area       22\n",
       "Bsmt Qual          55\n",
       "Bsmt Cond          55\n",
       "Bsmt Exposure      58\n",
       "BsmtFin Type 1     55\n",
       "BsmtFin SF 1        1\n",
       "BsmtFin Type 2     56\n",
       "BsmtFin SF 2        1\n",
       "Bsmt Unf SF         1\n",
       "Total Bsmt SF       1\n",
       "Bsmt Full Bath      2\n",
       "Bsmt Half Bath      2\n",
       "Garage Type       113\n",
       "Garage Yr Blt     114\n",
       "Garage Finish     114\n",
       "Garage Cars         1\n",
       "Garage Area         1\n",
       "Garage Qual       114\n",
       "Garage Cond       114\n",
       "dtype: int64"
      ]
     },
     "execution_count": 162,
     "metadata": {},
     "output_type": "execute_result"
    }
   ],
   "source": [
    "df.isnull().sum()[df.isnull().sum() > 0]"
   ]
  },
  {
   "cell_type": "code",
   "execution_count": 163,
   "metadata": {
    "scrolled": false
   },
   "outputs": [],
   "source": [
    "columns_with_nulls = df.isnull().sum()[df.isnull().sum() > 0].index.tolist()"
   ]
  },
  {
   "cell_type": "markdown",
   "metadata": {},
   "source": [
    "Taking a look at the types, I think I want to look at the object values and just default nan's in the float64 columns to 0 (I had looked at the values and this seemed sensible)."
   ]
  },
  {
   "cell_type": "code",
   "execution_count": 164,
   "metadata": {},
   "outputs": [
    {
     "data": {
      "text/plain": [
       "Lot Frontage      float64\n",
       "Mas Vnr Type       object\n",
       "Mas Vnr Area      float64\n",
       "Bsmt Qual          object\n",
       "Bsmt Cond          object\n",
       "Bsmt Exposure      object\n",
       "BsmtFin Type 1     object\n",
       "BsmtFin SF 1      float64\n",
       "BsmtFin Type 2     object\n",
       "BsmtFin SF 2      float64\n",
       "Bsmt Unf SF       float64\n",
       "Total Bsmt SF     float64\n",
       "Bsmt Full Bath    float64\n",
       "Bsmt Half Bath    float64\n",
       "Garage Type        object\n",
       "Garage Yr Blt     float64\n",
       "Garage Finish      object\n",
       "Garage Cars       float64\n",
       "Garage Area       float64\n",
       "Garage Qual        object\n",
       "Garage Cond        object\n",
       "dtype: object"
      ]
     },
     "execution_count": 164,
     "metadata": {},
     "output_type": "execute_result"
    }
   ],
   "source": [
    "df[columns_with_nulls].dtypes"
   ]
  },
  {
   "cell_type": "code",
   "execution_count": 165,
   "metadata": {},
   "outputs": [],
   "source": [
    "for col in df[columns_with_nulls].select_dtypes(\"float64\").columns.tolist():\n",
    "    df[col].fillna(0, inplace=True)"
   ]
  },
  {
   "cell_type": "code",
   "execution_count": 166,
   "metadata": {
    "scrolled": false
   },
   "outputs": [
    {
     "name": "stdout",
     "output_type": "stream",
     "text": [
      "Mas Vnr Type\n",
      "\n",
      "Null Count: 22\n",
      "\n",
      "['BrkCmn' 'BrkFace' 'None' 'Stone' nan]\n",
      "\n",
      "\n",
      "\n",
      "Bsmt Qual\n",
      "\n",
      "Null Count: 55\n",
      "\n",
      "['Ex' 'Fa' 'Gd' 'Po' 'TA' nan]\n",
      "\n",
      "\n",
      "\n",
      "Bsmt Cond\n",
      "\n",
      "Null Count: 55\n",
      "\n",
      "['Ex' 'Fa' 'Gd' 'Po' 'TA' nan]\n",
      "\n",
      "\n",
      "\n",
      "Bsmt Exposure\n",
      "\n",
      "Null Count: 58\n",
      "\n",
      "['Av' 'Gd' 'Mn' 'No' nan]\n",
      "\n",
      "\n",
      "\n",
      "BsmtFin Type 1\n",
      "\n",
      "Null Count: 55\n",
      "\n",
      "['ALQ' 'BLQ' 'GLQ' 'LwQ' 'Rec' 'Unf' nan]\n",
      "\n",
      "\n",
      "\n",
      "BsmtFin Type 2\n",
      "\n",
      "Null Count: 56\n",
      "\n",
      "['ALQ' 'BLQ' 'GLQ' 'LwQ' 'Rec' 'Unf' nan]\n",
      "\n",
      "\n",
      "\n",
      "Garage Type\n",
      "\n",
      "Null Count: 113\n",
      "\n",
      "['2Types' 'Attchd' 'Basment' 'BuiltIn' 'CarPort' 'Detchd' nan]\n",
      "\n",
      "\n",
      "\n",
      "Garage Finish\n",
      "\n",
      "Null Count: 114\n",
      "\n",
      "['Fin' 'RFn' 'Unf' nan]\n",
      "\n",
      "\n",
      "\n",
      "Garage Qual\n",
      "\n",
      "Null Count: 114\n",
      "\n",
      "['Ex' 'Fa' 'Gd' 'Po' 'TA' nan]\n",
      "\n",
      "\n",
      "\n",
      "Garage Cond\n",
      "\n",
      "Null Count: 114\n",
      "\n",
      "['Ex' 'Fa' 'Gd' 'Po' 'TA' nan]\n",
      "\n",
      "\n",
      "\n"
     ]
    }
   ],
   "source": [
    "for col in df[columns_with_nulls].select_dtypes(\"object\").columns:\n",
    "    print(col)\n",
    "    print()\n",
    "    print(f\"Null Count: {df[col].isnull().sum()}\")\n",
    "    print()\n",
    "    print(df[col].sort_values().unique())\n",
    "    [print() for _ in range(3)]"
   ]
  },
  {
   "cell_type": "markdown",
   "metadata": {},
   "source": [
    "It looks like some of these can have similar values and I can probably replace these values with numerical values after some exploratory data analysis."
   ]
  },
  {
   "cell_type": "code",
   "execution_count": 167,
   "metadata": {},
   "outputs": [],
   "source": [
    "df['Mas Vnr Type'].fillna(\"None\", inplace=True)"
   ]
  },
  {
   "cell_type": "code",
   "execution_count": 168,
   "metadata": {},
   "outputs": [],
   "source": [
    "string_cols = [\n",
    "    'Bsmt Qual', \n",
    "    'Bsmt Cond', \n",
    "    'Garage Qual', \n",
    "    'Garage Cond', \n",
    "    'Garage Finish', \n",
    "    'Garage Type', \n",
    "    'Bsmt Exposure',\n",
    "    'BsmtFin Type 1',\n",
    "    'BsmtFin Type 2'\n",
    "]\n",
    "\n",
    "for val in string_cols:\n",
    "    df[val].fillna(\"NA\", inplace=True)"
   ]
  },
  {
   "cell_type": "code",
   "execution_count": 169,
   "metadata": {},
   "outputs": [
    {
     "data": {
      "text/plain": [
       "Series([], dtype: int64)"
      ]
     },
     "execution_count": 169,
     "metadata": {},
     "output_type": "execute_result"
    }
   ],
   "source": [
    "df.isnull().sum()[df.isnull().sum() > 0]"
   ]
  },
  {
   "cell_type": "markdown",
   "metadata": {},
   "source": [
    "Going to check for out of bound values now..."
   ]
  },
  {
   "cell_type": "code",
   "execution_count": 170,
   "metadata": {},
   "outputs": [
    {
     "data": {
      "text/plain": [
       "{dtype('int64'), dtype('float64'), dtype('O')}"
      ]
     },
     "execution_count": 170,
     "metadata": {},
     "output_type": "execute_result"
    }
   ],
   "source": [
    "set(df.dtypes.values)"
   ]
  },
  {
   "cell_type": "markdown",
   "metadata": {},
   "source": [
    "Going to see if I can cast the floats to integers instead."
   ]
  },
  {
   "cell_type": "markdown",
   "metadata": {},
   "source": [
    "I am going to set these in advance because they inherently categorical, it makes more sense to do this now than to label encode them in a strange way."
   ]
  },
  {
   "cell_type": "code",
   "execution_count": 171,
   "metadata": {},
   "outputs": [],
   "source": [
    "for rating_col in ['Exter Qual', 'Exter Cond','Bsmt Qual', 'Bsmt Cond','Heating QC', 'Garage Qual', 'Garage Cond']:\n",
    "    df[rating_col] = df[rating_col].map({'Ex':5, 'Gd':4, 'TA':3, 'Fa':2, 'Po':1, 'NA': 0})"
   ]
  },
  {
   "cell_type": "code",
   "execution_count": 172,
   "metadata": {},
   "outputs": [
    {
     "data": {
      "text/plain": [
       "Lot Frontage      0\n",
       "Mas Vnr Area      0\n",
       "BsmtFin SF 1      0\n",
       "BsmtFin SF 2      0\n",
       "Bsmt Unf SF       0\n",
       "Total Bsmt SF     0\n",
       "Bsmt Full Bath    0\n",
       "Bsmt Half Bath    0\n",
       "Garage Yr Blt     0\n",
       "Garage Cars       0\n",
       "Garage Area       0\n",
       "dtype: int64"
      ]
     },
     "execution_count": 172,
     "metadata": {},
     "output_type": "execute_result"
    }
   ],
   "source": [
    "df.select_dtypes(\"float64\")[df.select_dtypes(\"float64\").applymap(lambda x: x.is_integer()) == False].count()"
   ]
  },
  {
   "cell_type": "code",
   "execution_count": 173,
   "metadata": {},
   "outputs": [],
   "source": [
    "for col in df.select_dtypes(\"float64\").columns.tolist():\n",
    "    df[col] = df[col].astype(\"int64\")"
   ]
  },
  {
   "cell_type": "code",
   "execution_count": 174,
   "metadata": {
    "scrolled": false
   },
   "outputs": [
    {
     "name": "stdout",
     "output_type": "stream",
     "text": [
      "Min of Id: 1\n",
      "Max of Id: 2930\n",
      "\n",
      "\n",
      "\n",
      "Min of PID: 526301100\n",
      "Max of PID: 924152030\n",
      "\n",
      "\n",
      "\n",
      "Min of MS SubClass: 20\n",
      "Max of MS SubClass: 190\n",
      "\n",
      "\n",
      "\n",
      "Min of Lot Frontage: 0\n",
      "Max of Lot Frontage: 313\n",
      "\n",
      "\n",
      "\n",
      "Min of Lot Area: 1300\n",
      "Max of Lot Area: 159000\n",
      "\n",
      "\n",
      "\n",
      "Min of Overall Qual: 1\n",
      "Max of Overall Qual: 10\n",
      "\n",
      "\n",
      "\n",
      "Min of Overall Cond: 1\n",
      "Max of Overall Cond: 9\n",
      "\n",
      "\n",
      "\n",
      "Min of Year Built: 1872\n",
      "Max of Year Built: 2010\n",
      "\n",
      "\n",
      "\n",
      "Min of Year Remod/Add: 1950\n",
      "Max of Year Remod/Add: 2010\n",
      "\n",
      "\n",
      "\n",
      "Min of Mas Vnr Area: 0\n",
      "Max of Mas Vnr Area: 1600\n",
      "\n",
      "\n",
      "\n",
      "Min of Exter Qual: 2\n",
      "Max of Exter Qual: 5\n",
      "\n",
      "\n",
      "\n",
      "Min of Exter Cond: 1\n",
      "Max of Exter Cond: 5\n",
      "\n",
      "\n",
      "\n",
      "Min of Bsmt Qual: 0\n",
      "Max of Bsmt Qual: 5\n",
      "\n",
      "\n",
      "\n",
      "Min of Bsmt Cond: 0\n",
      "Max of Bsmt Cond: 5\n",
      "\n",
      "\n",
      "\n",
      "Min of BsmtFin SF 1: 0\n",
      "Max of BsmtFin SF 1: 5644\n",
      "\n",
      "\n",
      "\n",
      "Min of BsmtFin SF 2: 0\n",
      "Max of BsmtFin SF 2: 1474\n",
      "\n",
      "\n",
      "\n",
      "Min of Bsmt Unf SF: 0\n",
      "Max of Bsmt Unf SF: 2336\n",
      "\n",
      "\n",
      "\n",
      "Min of Total Bsmt SF: 0\n",
      "Max of Total Bsmt SF: 6110\n",
      "\n",
      "\n",
      "\n",
      "Min of Heating QC: 1\n",
      "Max of Heating QC: 5\n",
      "\n",
      "\n",
      "\n",
      "Min of 1st Flr SF: 334\n",
      "Max of 1st Flr SF: 5095\n",
      "\n",
      "\n",
      "\n",
      "Min of 2nd Flr SF: 0\n",
      "Max of 2nd Flr SF: 1862\n",
      "\n",
      "\n",
      "\n",
      "Min of Low Qual Fin SF: 0\n",
      "Max of Low Qual Fin SF: 1064\n",
      "\n",
      "\n",
      "\n",
      "Min of Gr Liv Area: 334\n",
      "Max of Gr Liv Area: 5642\n",
      "\n",
      "\n",
      "\n",
      "Min of Bsmt Full Bath: 0\n",
      "Max of Bsmt Full Bath: 3\n",
      "\n",
      "\n",
      "\n",
      "Min of Bsmt Half Bath: 0\n",
      "Max of Bsmt Half Bath: 2\n",
      "\n",
      "\n",
      "\n",
      "Min of Full Bath: 0\n",
      "Max of Full Bath: 4\n",
      "\n",
      "\n",
      "\n",
      "Min of Half Bath: 0\n",
      "Max of Half Bath: 2\n",
      "\n",
      "\n",
      "\n",
      "Min of Bedroom AbvGr: 0\n",
      "Max of Bedroom AbvGr: 8\n",
      "\n",
      "\n",
      "\n",
      "Min of Kitchen AbvGr: 0\n",
      "Max of Kitchen AbvGr: 3\n",
      "\n",
      "\n",
      "\n",
      "Min of TotRms AbvGrd: 2\n",
      "Max of TotRms AbvGrd: 15\n",
      "\n",
      "\n",
      "\n",
      "Min of Fireplaces: 0\n",
      "Max of Fireplaces: 4\n",
      "\n",
      "\n",
      "\n",
      "Min of Garage Yr Blt: 0\n",
      "Max of Garage Yr Blt: 2207\n",
      "\n",
      "\n",
      "\n",
      "Min of Garage Cars: 0\n",
      "Max of Garage Cars: 5\n",
      "\n",
      "\n",
      "\n",
      "Min of Garage Area: 0\n",
      "Max of Garage Area: 1418\n",
      "\n",
      "\n",
      "\n",
      "Min of Garage Qual: 0\n",
      "Max of Garage Qual: 5\n",
      "\n",
      "\n",
      "\n",
      "Min of Garage Cond: 0\n",
      "Max of Garage Cond: 5\n",
      "\n",
      "\n",
      "\n",
      "Min of Wood Deck SF: 0\n",
      "Max of Wood Deck SF: 1424\n",
      "\n",
      "\n",
      "\n",
      "Min of Open Porch SF: 0\n",
      "Max of Open Porch SF: 547\n",
      "\n",
      "\n",
      "\n",
      "Min of Enclosed Porch: 0\n",
      "Max of Enclosed Porch: 432\n",
      "\n",
      "\n",
      "\n",
      "Min of 3Ssn Porch: 0\n",
      "Max of 3Ssn Porch: 508\n",
      "\n",
      "\n",
      "\n",
      "Min of Screen Porch: 0\n",
      "Max of Screen Porch: 490\n",
      "\n",
      "\n",
      "\n",
      "Min of Pool Area: 0\n",
      "Max of Pool Area: 800\n",
      "\n",
      "\n",
      "\n",
      "Min of Misc Val: 0\n",
      "Max of Misc Val: 17000\n",
      "\n",
      "\n",
      "\n",
      "Min of Mo Sold: 1\n",
      "Max of Mo Sold: 12\n",
      "\n",
      "\n",
      "\n",
      "Min of Yr Sold: 2006\n",
      "Max of Yr Sold: 2010\n",
      "\n",
      "\n",
      "\n",
      "Min of SalePrice: 12789\n",
      "Max of SalePrice: 611657\n",
      "\n",
      "\n",
      "\n"
     ]
    }
   ],
   "source": [
    "for col in df.select_dtypes(\"int64\").columns.tolist():\n",
    "    print(f\"Min of {col}: {df[col].min()}\")\n",
    "    print(f\"Max of {col}: {df[col].max()}\")\n",
    "    [print() for _ in range(3)]"
   ]
  },
  {
   "cell_type": "markdown",
   "metadata": {},
   "source": [
    "Going to drop row where the \"Garage Yr Blt\" value is greater than 2010."
   ]
  },
  {
   "cell_type": "code",
   "execution_count": 175,
   "metadata": {},
   "outputs": [],
   "source": [
    "df.drop(df[df['Garage Yr Blt'] > 2010].index, inplace=True)"
   ]
  },
  {
   "cell_type": "markdown",
   "metadata": {},
   "source": [
    "Going to also drop \"Id\" and \"PID\" as these are not really helpful (I think)"
   ]
  },
  {
   "cell_type": "code",
   "execution_count": 176,
   "metadata": {},
   "outputs": [],
   "source": [
    "df.drop(columns=[\"Id\",\"PID\"], inplace=True)"
   ]
  },
  {
   "cell_type": "markdown",
   "metadata": {},
   "source": [
    "Going to drop an observation where the remodel year happens before the year built:"
   ]
  },
  {
   "cell_type": "code",
   "execution_count": 177,
   "metadata": {},
   "outputs": [],
   "source": [
    "df.drop(df[df['Year Built'] > df['Year Remod/Add']].index, inplace=True)"
   ]
  },
  {
   "cell_type": "markdown",
   "metadata": {},
   "source": [
    "## 2. Feature Engineering and Exploration\n",
    "\n",
    "Now I am going to look at some features and see how they may impact the sales price. Going to also engineer some along the way to tease out some linear relationships."
   ]
  },
  {
   "cell_type": "markdown",
   "metadata": {},
   "source": [
    "According to the [data dictionary](https://www.kaggle.com/c/dsi-us-5-project-2-regression-challenge/data), the \"YearRemodAdd\" will use the 'same ... construction date if no remodeling or additions'. These means we can identify houses that haven't been remodeled."
   ]
  },
  {
   "cell_type": "code",
   "execution_count": 178,
   "metadata": {},
   "outputs": [],
   "source": [
    "df[\"Remodeled\"] = 0"
   ]
  },
  {
   "cell_type": "code",
   "execution_count": 179,
   "metadata": {},
   "outputs": [
    {
     "data": {
      "text/plain": [
       "(1101, 77)"
      ]
     },
     "execution_count": 179,
     "metadata": {},
     "output_type": "execute_result"
    }
   ],
   "source": [
    "df[df['Year Built'] == df['Year Remod/Add']].shape"
   ]
  },
  {
   "cell_type": "markdown",
   "metadata": {},
   "source": [
    "Going to add up the total area of the houses as a feature."
   ]
  },
  {
   "cell_type": "code",
   "execution_count": 180,
   "metadata": {},
   "outputs": [
    {
     "data": {
      "text/plain": [
       "0    2973\n",
       "1    4022\n",
       "2    3223\n",
       "3    2312\n",
       "4    2856\n",
       "Name: total_square_feet, dtype: int64"
      ]
     },
     "execution_count": 180,
     "metadata": {},
     "output_type": "execute_result"
    }
   ],
   "source": [
    "def add_up_square_feet(data_frame):\n",
    "    # Set an initital value\n",
    "    data_frame[\"total_square_feet\"] = 0\n",
    "\n",
    "    # Add up the values from the other columns minus the total column\n",
    "    for col in [col for col in data_frame.columns if \" SF\" in col]:\n",
    "        data_frame[\"total_square_feet\"] += data_frame[col]\n",
    "        \n",
    "\n",
    "# retrieve the first 5 columns\n",
    "add_up_square_feet(df)\n",
    "\n",
    "\n",
    "df[\"total_square_feet\"].head()"
   ]
  },
  {
   "cell_type": "code",
   "execution_count": 181,
   "metadata": {},
   "outputs": [],
   "source": [
    "df.loc[df['Year Built'] < df['Year Remod/Add'], \"Remodeled\"] = 1"
   ]
  },
  {
   "cell_type": "code",
   "execution_count": 182,
   "metadata": {},
   "outputs": [
    {
     "data": {
      "text/plain": [
       "<matplotlib.axes._subplots.AxesSubplot at 0x22369bb1940>"
      ]
     },
     "execution_count": 182,
     "metadata": {},
     "output_type": "execute_result"
    },
    {
     "data": {
      "image/png": "[encoded data removed]",
      "text/plain": [
       "<Figure size 432x288 with 1 Axes>"
      ]
     },
     "metadata": {
      "needs_background": "light"
     },
     "output_type": "display_data"
    }
   ],
   "source": [
    "df[[\"Remodeled\",\"SalePrice\"]].plot(kind=\"scatter\", x=\"Remodeled\",y=\"SalePrice\")"
   ]
  },
  {
   "cell_type": "markdown",
   "metadata": {},
   "source": [
    "I am going to square the year values so that if there are any linear relationships, they should be stronger"
   ]
  },
  {
   "cell_type": "code",
   "execution_count": 183,
   "metadata": {},
   "outputs": [],
   "source": [
    "yr_columns = ['Year Built','Yr Sold','Year Remod/Add','Garage Yr Blt']\n",
    "df[yr_columns] =  df[yr_columns].applymap(lambda x: x**2)"
   ]
  },
  {
   "cell_type": "markdown",
   "metadata": {},
   "source": [
    "Going to take a look at the object columns and see if I can reengineer them into something a but more usable."
   ]
  },
  {
   "cell_type": "code",
   "execution_count": 184,
   "metadata": {
    "scrolled": false
   },
   "outputs": [],
   "source": [
    "df = pd.get_dummies(df)\n",
    "# label_encoder_dict = {}\n",
    "\n",
    "# for col in df.select_dtypes('object').columns.tolist():\n",
    "#     le = LabelEncoder()\n",
    "#     le.fit(df[col].unique())\n",
    "#     df[col] = le.transform(df[col])\n",
    "#     label_encoder_dict[f\"{col}_string\"] = {\n",
    "#         \"original\": df[col].unique(), \n",
    "#         \"transformed\": le.classes_\n",
    "#     }\n",
    "#     df.rename(columns={f\"{col}\":f\"{col}_string\"}, inplace=True)"
   ]
  },
  {
   "cell_type": "code",
   "execution_count": 185,
   "metadata": {
    "scrolled": true
   },
   "outputs": [],
   "source": [
    "# string_columns_for_plotting = [col for col in df.columns if \"_string\" in col]\n",
    "\n",
    "# for col in string_columns_for_plotting:\n",
    "#     print(col)\n",
    "#     inner_le = label_encoder_dict[col]\n",
    "#     print(inner_le)\n",
    "#     df.plot(kind=\"scatter\", x=col, y=\"SalePrice\")\n",
    "#     plt.show()"
   ]
  },
  {
   "cell_type": "code",
   "execution_count": 186,
   "metadata": {},
   "outputs": [
    {
     "data": {
      "text/plain": [
       "{dtype('uint8'), dtype('int64')}"
      ]
     },
     "execution_count": 186,
     "metadata": {},
     "output_type": "execute_result"
    }
   ],
   "source": [
    "set(df.dtypes.values)"
   ]
  },
  {
   "cell_type": "code",
   "execution_count": 187,
   "metadata": {},
   "outputs": [],
   "source": [
    "# https://stackoverflow.com/questions/34896455/how-to-do-pearson-correlation-of-selected-columns-of-a-pandas-data-frame\n",
    "sp_corr = df[df.columns[1:]].corr()['SalePrice'][:-1]"
   ]
  },
  {
   "cell_type": "code",
   "execution_count": 188,
   "metadata": {
    "scrolled": false
   },
   "outputs": [
    {
     "name": "stdout",
     "output_type": "stream",
     "text": [
      "Kitchen Qual_TA        -0.540624\n",
      "Fireplace Qu_NA        -0.485864\n",
      "Garage Finish_Unf      -0.431945\n",
      "Mas Vnr Type_None      -0.411777\n",
      "Garage Type_Detchd     -0.370128\n",
      "Foundation_CBlock      -0.355206\n",
      "Lot Shape_Reg          -0.305774\n",
      "Bsmt Exposure_No       -0.292739\n",
      "MS Zoning_RM           -0.281780\n",
      "Central Air_N          -0.277293\n",
      "Paved Drive_N          -0.273520\n",
      "Roof Style_Gable       -0.248694\n",
      "Garage Type_NA         -0.230908\n",
      "Garage Finish_NA       -0.230772\n",
      "Foundation_BrkTil      -0.229745\n",
      "Neighborhood_OldTown   -0.208249\n",
      "Electrical_FuseA       -0.201096\n",
      "House Style_1.5Fin     -0.195645\n",
      "Exterior 1st_Wd Sdng   -0.191547\n",
      "Neighborhood_NAmes     -0.189182\n",
      "Neighborhood_IDOTRR    -0.189175\n",
      "Neighborhood_Edwards   -0.175998\n",
      "Exterior 2nd_Wd Sdng   -0.172783\n",
      "BsmtFin Type 1_NA      -0.157326\n",
      "Kitchen Qual_Fa        -0.154822\n",
      "BsmtFin Type 2_NA      -0.152079\n",
      "BsmtFin Type 1_Rec     -0.150761\n",
      "Bsmt Exposure_NA       -0.150279\n",
      "Exterior 1st_MetalSd   -0.149620\n",
      "Exterior 2nd_MetalSd   -0.139108\n",
      "Enclosed Porch         -0.135458\n",
      "Neighborhood_BrkSide   -0.134703\n",
      "Neighborhood_Sawyer    -0.133578\n",
      "BsmtFin Type 1_BLQ     -0.129931\n",
      "Electrical_FuseF       -0.129306\n",
      "Exterior 1st_AsbShng   -0.126295\n",
      "MS Zoning_C (all)      -0.126228\n",
      "Kitchen AbvGr          -0.125349\n",
      "Condition 1_Artery     -0.124946\n",
      "BsmtFin Type 1_Unf     -0.124356\n",
      "Foundation_Slab        -0.119003\n",
      "Condition 1_Feedr      -0.114231\n",
      "Exterior 1st_HdBoard   -0.114102\n",
      "Bldg Type_Twnhs        -0.113808\n",
      "Neighborhood_MeadowV   -0.111520\n",
      "Bldg Type_2fmCon       -0.111358\n",
      "Exterior 2nd_AsbShng   -0.110360\n",
      "Sale Type_COD          -0.107517\n",
      "Bldg Type_Duplex       -0.103594\n",
      "Exterior 2nd_HdBoard   -0.102241\n",
      "Land Contour_Bnk       -0.098041\n",
      "Overall Cond           -0.096724\n",
      "Neighborhood_BrDale    -0.095271\n",
      "Land Contour_Lvl       -0.091530\n",
      "Paved Drive_P          -0.090678\n",
      "BsmtFin Type 1_ALQ     -0.087873\n",
      "Lot Config_Inside      -0.082633\n",
      "BsmtFin Type 1_LwQ     -0.081298\n",
      "Neighborhood_SWISU     -0.074154\n",
      "Heating_Grav           -0.072539\n",
      "Electrical_FuseP       -0.072347\n",
      "Garage Type_CarPort    -0.071928\n",
      "Heating_Wall           -0.071297\n",
      "Street_Grvl            -0.069824\n",
      "Functional_Maj2        -0.069635\n",
      "Roof Matl_CompShg      -0.069205\n",
      "House Style_1.5Unf     -0.066775\n",
      "Fireplace Qu_Po        -0.065922\n",
      "House Style_SFoyer     -0.064003\n",
      "Land Slope_Gtl         -0.062772\n",
      "Exterior 2nd_Wd Shng   -0.061065\n",
      "Exterior 1st_Stucco    -0.060807\n",
      "Sale Type_ConLD        -0.060389\n",
      "Exterior 2nd_Plywood   -0.059354\n",
      "Functional_Sal         -0.059107\n",
      "Functional_Min2        -0.056571\n",
      "Garage Type_Basment    -0.055661\n",
      "Condition 1_RRAe       -0.053582\n",
      "MS Zoning_A (agr)      -0.052896\n",
      "Exterior 2nd_Stucco    -0.051820\n",
      "Functional_Mod         -0.050357\n",
      "Functional_Min1        -0.049260\n",
      "Exterior 1st_WdShing   -0.048783\n",
      "Condition 2_Feedr      -0.048422\n",
      "BsmtFin Type 2_BLQ     -0.048383\n",
      "Remodeled              -0.048118\n",
      "Exterior 2nd_Brk Cmn   -0.047847\n",
      "Neighborhood_NPkVill   -0.047250\n",
      "Bsmt Half Bath         -0.045139\n",
      "BsmtFin Type 2_Rec     -0.042928\n",
      "House Style_SLvl       -0.041967\n",
      "BsmtFin Type 2_LwQ     -0.041929\n",
      "Roof Style_Gambrel     -0.041845\n",
      "Low Qual Fin SF        -0.041536\n",
      "Exterior 1st_Plywood   -0.038952\n",
      "Condition 2_Artery     -0.038921\n",
      "Heating_GasW           -0.037760\n",
      "Mas Vnr Type_BrkCmn    -0.037206\n",
      "Sale Type_ConLw        -0.035457\n",
      "Neighborhood_Mitchel   -0.035450\n",
      "Exterior 2nd_CBlock    -0.035266\n",
      "Exterior 1st_CBlock    -0.034773\n",
      "Utilities_NoSewr       -0.034515\n",
      "MS Zoning_I (all)      -0.034515\n",
      "MS Zoning_RH           -0.034073\n",
      "Functional_Sev         -0.033787\n",
      "Condition 2_RRNn       -0.033393\n",
      "Electrical_Mix         -0.031901\n",
      "Sale Type_Oth          -0.030089\n",
      "Garage Type_2Types     -0.029581\n",
      "Exterior 1st_AsphShn   -0.027614\n",
      "Neighborhood_Blueste   -0.025198\n",
      "Condition 1_RRNe       -0.025028\n",
      "Exterior 2nd_Stone     -0.024614\n",
      "Pool QC_NA             -0.024417\n",
      "Exterior 1st_BrkComm   -0.024359\n",
      "Fireplace Qu_Fa        -0.024181\n",
      "Foundation_Stone       -0.023828\n",
      "Exterior 2nd_AsphShn   -0.023816\n",
      "House Style_1Story     -0.022309\n",
      "Heating_OthW           -0.021955\n",
      "Roof Style_Mansard     -0.021257\n",
      "Functional_Maj1        -0.017733\n",
      "Pool QC_TA             -0.015743\n",
      "Yr Sold                -0.015034\n",
      "Condition 1_RRAn       -0.014870\n",
      "Lot Config_FR2         -0.014713\n",
      "Condition 2_RRAn       -0.012411\n",
      "Neighborhood_Landmrk   -0.012384\n",
      "Utilities_NoSeWa       -0.012245\n",
      "Condition 2_Norm       -0.009837\n",
      "Misc Val               -0.007318\n",
      "Roof Matl_ClyTile      -0.005971\n",
      "Lot Config_Corner      -0.004496\n",
      "Foundation_Wood        -0.003024\n",
      "Condition 2_RRAe        0.002393\n",
      "Neighborhood_Greens     0.003503\n",
      "Sale Type_CWD           0.004611\n",
      "Roof Matl_Tar&Grv       0.007077\n",
      "Lot Shape_IR3           0.009860\n",
      "Roof Style_Flat         0.010280\n",
      "Exterior 2nd_BrkFace    0.010777\n",
      "House Style_2.5Unf      0.010851\n",
      "Condition 1_RRNn        0.011481\n",
      "Land Slope_Sev          0.011647\n",
      "BsmtFin Type 2_ALQ      0.011893\n",
      "Roof Style_Shed         0.013166\n",
      "Pool QC_Fa              0.013442\n",
      "Lot Config_FR3          0.014400\n",
      "BsmtFin SF 2            0.016630\n",
      "Roof Matl_Membran       0.016752\n",
      "Neighborhood_SawyerW    0.016853\n",
      "Pool QC_Gd              0.019573\n",
      "Sale Type_ConLI         0.019633\n",
      "Exterior 1st_ImStucc    0.022468\n",
      "Pool Area               0.023155\n",
      "Neighborhood_Gilbert    0.024144\n",
      "Neighborhood_Blmngtn    0.024976\n",
      "Exterior 1st_BrkFace    0.026367\n",
      "Bsmt Exposure_Mn        0.029528\n",
      "Exterior 1st_Stone      0.030401\n",
      "Mo Sold                 0.032331\n",
      "Land Contour_Low        0.033060\n",
      "Utilities_AllPub        0.033072\n",
      "Sale Type_Con           0.033700\n",
      "Neighborhood_NWAmes     0.035077\n",
      "Exter Cond              0.036582\n",
      "Pool QC_Ex              0.037245\n",
      "Neighborhood_GrnHill    0.038881\n",
      "House Style_2.5Fin      0.042565\n",
      "Exterior 2nd_ImStucc    0.042693\n",
      "Roof Matl_WdShake       0.046224\n",
      "3Ssn Porch              0.048815\n",
      "Neighborhood_ClearCr    0.052596\n",
      "BsmtFin Type 2_GLQ      0.053618\n",
      "Neighborhood_Crawfor    0.058530\n",
      "Land Slope_Mod          0.062070\n",
      "Bldg Type_TwnhsE        0.062252\n",
      "Street_Pave             0.069824\n",
      "Condition 1_PosA        0.071002\n",
      "Neighborhood_CollgCr    0.082280\n",
      "Neighborhood_Veenker    0.083272\n",
      "Heating_GasA            0.093972\n",
      "Roof Matl_WdShngl       0.098590\n",
      "Condition 2_PosA        0.101100\n",
      "Condition 2_PosN        0.103516\n",
      "Bldg Type_1Fam          0.105448\n",
      "MS Zoning_FV            0.106881\n",
      "Condition 1_PosN        0.106987\n",
      "Lot Shape_IR2           0.110095\n",
      "Condition 1_Norm        0.111137\n",
      "BsmtFin Type 2_Unf      0.113706\n",
      "Neighborhood_Timber     0.114210\n",
      "Functional_Typ          0.117545\n",
      "Bsmt Exposure_Av        0.125437\n",
      "Screen Porch            0.134818\n",
      "Bedroom AbvGr           0.137659\n",
      "Fireplace Qu_TA         0.147476\n",
      "Neighborhood_Somerst    0.150301\n",
      "Exterior 2nd_CmentBd    0.157192\n",
      "Lot Config_CulDSac      0.162658\n",
      "Exterior 1st_CemntBd    0.167710\n",
      "Lot Frontage            0.181329\n",
      "Garage Finish_RFn       0.183823\n",
      "Bsmt Unf SF             0.190641\n",
      "House Style_2Story      0.202438\n",
      "Land Contour_HLS        0.210991\n",
      "Garage Type_BuiltIn     0.220068\n",
      "Bsmt Cond               0.225064\n",
      "MS Zoning_RL            0.231218\n",
      "Fireplace Qu_Ex         0.234680\n",
      "2nd Flr SF              0.249112\n",
      "Electrical_SBrkr        0.253927\n",
      "Neighborhood_StoneBr    0.257149\n",
      "Mas Vnr Type_BrkFace    0.258302\n",
      "Neighborhood_NoRidge    0.263581\n",
      "Roof Style_Hip          0.264575\n",
      "Garage Cond             0.264935\n",
      "Lot Shape_IR1           0.272993\n",
      "Central Air_Y           0.277293\n",
      "Half Bath               0.283653\n",
      "Bsmt Full Bath          0.283835\n",
      "Garage Yr Blt           0.284933\n",
      "Garage Qual             0.285197\n",
      "Paved Drive_Y           0.289101\n",
      "Lot Area                0.296787\n",
      "Kitchen Qual_Gd         0.306763\n",
      "Mas Vnr Type_Stone      0.310331\n",
      "Wood Deck SF            0.326399\n",
      "Open Porch SF           0.334012\n",
      "Exterior 2nd_VinylSd    0.337071\n",
      "Exterior 1st_VinylSd    0.341660\n",
      "Sale Type_New           0.357472\n",
      "Garage Type_Attchd      0.357559\n",
      "Bsmt Exposure_Gd        0.377386\n",
      "Fireplace Qu_Gd         0.384329\n",
      "Garage Finish_Fin       0.423513\n",
      "BsmtFin SF 1            0.423922\n",
      "Neighborhood_NridgHt    0.448964\n",
      "Heating QC              0.458087\n",
      "BsmtFin Type 1_GLQ      0.463207\n",
      "Fireplaces              0.471166\n",
      "Mas Vnr Area            0.504098\n",
      "TotRms AbvGrd           0.504372\n",
      "Foundation_PConc        0.528792\n",
      "Full Bath               0.537779\n",
      "Year Remod/Add          0.550412\n",
      "Kitchen Qual_Ex         0.551320\n",
      "Year Built              0.573802\n",
      "Bsmt Qual               0.612096\n",
      "1st Flr SF              0.618276\n",
      "Total Bsmt SF           0.629097\n",
      "Garage Cars             0.647812\n",
      "Garage Area             0.650000\n",
      "Gr Liv Area             0.697202\n",
      "Exter Qual              0.712049\n",
      "total_square_feet       0.766533\n",
      "Overall Qual            0.800086\n",
      "SalePrice               1.000000\n"
     ]
    }
   ],
   "source": [
    "print(sp_corr.sort_values().to_string())"
   ]
  },
  {
   "cell_type": "code",
   "execution_count": 691,
   "metadata": {},
   "outputs": [
    {
     "data": {
      "text/plain": [
       "MS Zoning_RL            0.231218\n",
       "Fireplace Qu_Ex         0.234680\n",
       "2nd Flr SF              0.249112\n",
       "Electrical_SBrkr        0.253927\n",
       "Neighborhood_StoneBr    0.257149\n",
       "Mas Vnr Type_BrkFace    0.258302\n",
       "Neighborhood_NoRidge    0.263581\n",
       "Roof Style_Hip          0.264575\n",
       "Garage Cond             0.264935\n",
       "Lot Shape_IR1           0.272993\n",
       "Central Air_Y           0.277293\n",
       "Half Bath               0.283653\n",
       "Bsmt Full Bath          0.283835\n",
       "Garage Yr Blt           0.284933\n",
       "Garage Qual             0.285197\n",
       "Paved Drive_Y           0.289101\n",
       "Lot Area                0.296787\n",
       "Kitchen Qual_Gd         0.306763\n",
       "Mas Vnr Type_Stone      0.310331\n",
       "Wood Deck SF            0.326399\n",
       "Open Porch SF           0.334012\n",
       "Exterior 2nd_VinylSd    0.337071\n",
       "Exterior 1st_VinylSd    0.341660\n",
       "Sale Type_New           0.357472\n",
       "Garage Type_Attchd      0.357559\n",
       "Bsmt Exposure_Gd        0.377386\n",
       "Fireplace Qu_Gd         0.384329\n",
       "Garage Finish_Fin       0.423513\n",
       "BsmtFin SF 1            0.423922\n",
       "Neighborhood_NridgHt    0.448964\n",
       "Heating QC              0.458087\n",
       "BsmtFin Type 1_GLQ      0.463207\n",
       "Fireplaces              0.471166\n",
       "Mas Vnr Area            0.504098\n",
       "TotRms AbvGrd           0.504372\n",
       "Foundation_PConc        0.528792\n",
       "Full Bath               0.537779\n",
       "Year Remod/Add          0.550412\n",
       "Kitchen Qual_Ex         0.551320\n",
       "Year Built              0.573802\n",
       "Bsmt Qual               0.612096\n",
       "1st Flr SF              0.618276\n",
       "Total Bsmt SF           0.629097\n",
       "Garage Cars             0.647812\n",
       "Garage Area             0.650000\n",
       "Gr Liv Area             0.697202\n",
       "Exter Qual              0.712049\n",
       "total_square_feet       0.766533\n",
       "Overall Qual            0.800086\n",
       "SalePrice               1.000000\n",
       "Name: SalePrice, dtype: float64"
      ]
     },
     "execution_count": 691,
     "metadata": {},
     "output_type": "execute_result"
    }
   ],
   "source": [
    "most_correlated = sp_corr[ (sp_corr > .23)]\n",
    "most_correlated.sort_values()"
   ]
  },
  {
   "cell_type": "code",
   "execution_count": 692,
   "metadata": {
    "scrolled": false
   },
   "outputs": [],
   "source": [
    "features = most_correlated.index.tolist()\n",
    "features.append(\"total_square_feet\")\n",
    "\n",
    "# for col in features:\n",
    "#     if col!= 'SalePrice':\n",
    "#         plt.figure(figsize=(12,12))\n",
    "#         df.plot(kind=\"scatter\", x=col, y=\"SalePrice\")"
   ]
  },
  {
   "cell_type": "markdown",
   "metadata": {},
   "source": [
    "## 3. Modeling\n",
    "\n",
    "This is where the fun begins... I think the features above are the best features. Will try a few things out to see how I can lower the RMSE."
   ]
  },
  {
   "cell_type": "code",
   "execution_count": 695,
   "metadata": {},
   "outputs": [
    {
     "name": "stdout",
     "output_type": "stream",
     "text": [
      "['Electrical_SBrkr', 'Roof Style_Hip', 'Foundation_PConc', 'Full Bath', 'Fireplaces', 'Garage Finish_Fin', 'Garage Yr Blt', 'Mas Vnr Area', 'Exterior 2nd_VinylSd', 'Neighborhood_NridgHt', 'Bsmt Qual', 'Kitchen Qual_Ex', 'Half Bath', 'Mas Vnr Type_Stone', 'Kitchen Qual_Gd', 'Exterior 1st_VinylSd', 'Bsmt Exposure_Gd', 'Lot Area', 'Garage Qual', 'Neighborhood_StoneBr', 'Paved Drive_Y', 'MS Zoning_RL', 'Sale Type_New', 'Garage Area', 'Gr Liv Area', 'total_square_feet', 'Year Built', 'Fireplace Qu_Ex', 'Heating QC', 'Mas Vnr Type_BrkFace', 'Bsmt Full Bath', 'Garage Cars', 'Lot Shape_IR1', 'TotRms AbvGrd', 'Garage Type_Attchd', 'Central Air_Y', 'Overall Qual', 'Neighborhood_NoRidge', 'Fireplace Qu_Gd', 'BsmtFin Type 1_GLQ', 'Exter Qual', 'Year Remod/Add', 'Garage Cond']\n"
     ]
    }
   ],
   "source": [
    "features_to_remove = [\n",
    "    'SalePrice',\n",
    "]\n",
    "\n",
    "for feat in features:\n",
    "    if \"SF\" in feat:\n",
    "        features.remove(feat)\n",
    "    if feat in features_to_remove:\n",
    "        features.remove(feat)\n",
    "\n",
    "features = list(set(features))        \n",
    "        \n",
    "print(features)    \n",
    "    \n",
    "X = df[features]\n",
    "y = df['SalePrice']"
   ]
  },
  {
   "cell_type": "code",
   "execution_count": 702,
   "metadata": {},
   "outputs": [],
   "source": [
    "X_train, X_test, y_train, y_test = train_test_split(X, y, test_size=0.05)\n",
    "ss = StandardScaler()\n",
    "X_train_scaled = ss.fit_transform(X_train)\n",
    "X_test_scaled = ss.transform(X_test)"
   ]
  },
  {
   "cell_type": "code",
   "execution_count": 703,
   "metadata": {},
   "outputs": [
    {
     "data": {
      "text/plain": [
       "0.8649021873817335"
      ]
     },
     "execution_count": 703,
     "metadata": {},
     "output_type": "execute_result"
    }
   ],
   "source": [
    "lr = LinearRegression()\n",
    "lr.fit(X_train_scaled, y_train)\n",
    "lr.score(X_train_scaled, y_train)"
   ]
  },
  {
   "cell_type": "code",
   "execution_count": 704,
   "metadata": {},
   "outputs": [
    {
     "data": {
      "text/plain": [
       "838270264.7012244"
      ]
     },
     "execution_count": 704,
     "metadata": {},
     "output_type": "execute_result"
    }
   ],
   "source": [
    "mean_squared_error(y_train, lr.predict(X_train_scaled))"
   ]
  },
  {
   "cell_type": "code",
   "execution_count": 705,
   "metadata": {},
   "outputs": [
    {
     "data": {
      "text/plain": [
       "0.8935015713186316"
      ]
     },
     "execution_count": 705,
     "metadata": {},
     "output_type": "execute_result"
    }
   ],
   "source": [
    "lr.score(X_test_scaled, y_test)"
   ]
  },
  {
   "cell_type": "code",
   "execution_count": 706,
   "metadata": {},
   "outputs": [
    {
     "data": {
      "text/plain": [
       "838270264.7012244"
      ]
     },
     "execution_count": 706,
     "metadata": {},
     "output_type": "execute_result"
    }
   ],
   "source": [
    "mean_squared_error(y_train, lr.predict(X_train_scaled))"
   ]
  },
  {
   "cell_type": "code",
   "execution_count": 707,
   "metadata": {},
   "outputs": [
    {
     "data": {
      "text/plain": [
       "0.9789480867662776"
      ]
     },
     "execution_count": 707,
     "metadata": {},
     "output_type": "execute_result"
    }
   ],
   "source": [
    "rf = RandomForestRegressor()\n",
    "rf.fit(X_train_scaled, y_train)\n",
    "rf.score(X_train_scaled, y_train)"
   ]
  },
  {
   "cell_type": "code",
   "execution_count": 708,
   "metadata": {},
   "outputs": [
    {
     "data": {
      "text/plain": [
       "0.906485536650376"
      ]
     },
     "execution_count": 708,
     "metadata": {},
     "output_type": "execute_result"
    }
   ],
   "source": [
    "rf.score(X_test_scaled, y_test)"
   ]
  },
  {
   "cell_type": "code",
   "execution_count": 709,
   "metadata": {},
   "outputs": [
    {
     "data": {
      "text/plain": [
       "{'Electrical_SBrkr': 0.0003678840144068601,\n",
       " 'Roof Style_Hip': 0.0006676630775544616,\n",
       " 'Foundation_PConc': 0.0009513129675503745,\n",
       " 'Full Bath': 0.006879062375665432,\n",
       " 'Fireplaces': 0.005737932493705763,\n",
       " 'Garage Finish_Fin': 0.0012022558097034082,\n",
       " 'Garage Yr Blt': 0.00520431136238555,\n",
       " 'Mas Vnr Area': 0.0073144182745368365,\n",
       " 'Exterior 2nd_VinylSd': 0.0005144105259261942,\n",
       " 'Neighborhood_NridgHt': 0.0001971269752082509,\n",
       " 'Bsmt Qual': 0.005510988228145439,\n",
       " 'Kitchen Qual_Ex': 0.007314134953688841,\n",
       " 'Half Bath': 0.0015866303419199163,\n",
       " 'Mas Vnr Type_Stone': 0.0006493478030571822,\n",
       " 'Kitchen Qual_Gd': 0.002776107449905685,\n",
       " 'Exterior 1st_VinylSd': 0.0005634153104550824,\n",
       " 'Bsmt Exposure_Gd': 0.0010040308700866956,\n",
       " 'Lot Area': 0.021264061129361245,\n",
       " 'Garage Qual': 0.0013727826365087393,\n",
       " 'Neighborhood_StoneBr': 0.0038271386287922217,\n",
       " 'Paved Drive_Y': 0.0008636238456739475,\n",
       " 'MS Zoning_RL': 0.001159385340907274,\n",
       " 'Sale Type_New': 0.0016700376562898533,\n",
       " 'Garage Area': 0.013389039225272653,\n",
       " 'Gr Liv Area': 0.03855099032894276,\n",
       " 'total_square_feet': 0.2921470592230052,\n",
       " 'Year Built': 0.0330204460814115,\n",
       " 'Fireplace Qu_Ex': 0.0003976816517598534,\n",
       " 'Heating QC': 0.0017400266479464948,\n",
       " 'Mas Vnr Type_BrkFace': 0.0008654246999409273,\n",
       " 'Bsmt Full Bath': 0.0042800663296989954,\n",
       " 'Garage Cars': 0.01602323470484287,\n",
       " 'Lot Shape_IR1': 0.0008781911707663418,\n",
       " 'TotRms AbvGrd': 0.0053975422038865005,\n",
       " 'Garage Type_Attchd': 0.001481681179315528,\n",
       " 'Central Air_Y': 0.0016404931231741703,\n",
       " 'Overall Qual': 0.4827514411412893,\n",
       " 'Neighborhood_NoRidge': 0.00019312574966697663,\n",
       " 'Fireplace Qu_Gd': 0.002104499693368899,\n",
       " 'BsmtFin Type 1_GLQ': 0.0009880851607624763,\n",
       " 'Exter Qual': 0.007637212806711891,\n",
       " 'Year Remod/Add': 0.017261869074924927,\n",
       " 'Garage Cond': 0.0006538277318764229}"
      ]
     },
     "execution_count": 709,
     "metadata": {},
     "output_type": "execute_result"
    }
   ],
   "source": [
    "{feature:rf.feature_importances_[i] for i, feature in enumerate(features)}"
   ]
  },
  {
   "cell_type": "code",
   "execution_count": 710,
   "metadata": {},
   "outputs": [
    {
     "data": {
      "text/plain": [
       "130625304.26575927"
      ]
     },
     "execution_count": 710,
     "metadata": {},
     "output_type": "execute_result"
    }
   ],
   "source": [
    "mean_squared_error(y_train, rf.predict(X_train_scaled))"
   ]
  },
  {
   "cell_type": "code",
   "execution_count": 711,
   "metadata": {},
   "outputs": [
    {
     "data": {
      "text/plain": [
       "717930481.1054369"
      ]
     },
     "execution_count": 711,
     "metadata": {},
     "output_type": "execute_result"
    }
   ],
   "source": [
    "mean_squared_error(y_test, rf.predict(X_test_scaled))"
   ]
  },
  {
   "cell_type": "code",
   "execution_count": 712,
   "metadata": {},
   "outputs": [
    {
     "data": {
      "text/plain": [
       "0.8649020207405568"
      ]
     },
     "execution_count": 712,
     "metadata": {},
     "output_type": "execute_result"
    }
   ],
   "source": [
    "clf = Lasso(alpha=.05,normalize=True, max_iter=1e5)\n",
    "clf.fit(X_train_scaled,y_train)\n",
    "clf.score(X_train_scaled,y_train)"
   ]
  },
  {
   "cell_type": "code",
   "execution_count": 713,
   "metadata": {},
   "outputs": [
    {
     "data": {
      "text/plain": [
       "0.8935426665910036"
      ]
     },
     "execution_count": 713,
     "metadata": {},
     "output_type": "execute_result"
    }
   ],
   "source": [
    "clf.score(X_test_scaled,y_test)"
   ]
  },
  {
   "cell_type": "code",
   "execution_count": 714,
   "metadata": {},
   "outputs": [
    {
     "data": {
      "text/plain": [
       "817295655.1734319"
      ]
     },
     "execution_count": 714,
     "metadata": {},
     "output_type": "execute_result"
    }
   ],
   "source": [
    "mean_squared_error(y_test, clf.predict(X_test_scaled))"
   ]
  },
  {
   "cell_type": "code",
   "execution_count": 715,
   "metadata": {},
   "outputs": [
    {
     "data": {
      "text/plain": [
       "0.8649018511584986"
      ]
     },
     "execution_count": 715,
     "metadata": {},
     "output_type": "execute_result"
    }
   ],
   "source": [
    "rr = Ridge(alpha=1,max_iter=1e5)\n",
    "rr.fit(X_train_scaled,y_train)\n",
    "rr.score(X_train_scaled,y_train)"
   ]
  },
  {
   "cell_type": "code",
   "execution_count": 716,
   "metadata": {},
   "outputs": [
    {
     "data": {
      "text/plain": [
       "0.8935558457324112"
      ]
     },
     "execution_count": 716,
     "metadata": {},
     "output_type": "execute_result"
    }
   ],
   "source": [
    "rr.score(X_test_scaled,y_test)"
   ]
  },
  {
   "cell_type": "code",
   "execution_count": 717,
   "metadata": {},
   "outputs": [
    {
     "data": {
      "text/plain": [
       "817194476.093827"
      ]
     },
     "execution_count": 717,
     "metadata": {},
     "output_type": "execute_result"
    }
   ],
   "source": [
    "mean_squared_error(y_test, rr.predict(X_test_scaled))"
   ]
  },
  {
   "cell_type": "code",
   "execution_count": 720,
   "metadata": {},
   "outputs": [
    {
     "data": {
      "text/plain": [
       "0.8555153452508185"
      ]
     },
     "execution_count": 720,
     "metadata": {},
     "output_type": "execute_result"
    }
   ],
   "source": [
    "en = ElasticNet(alpha=1,max_iter=1e5)\n",
    "en.fit(X_train_scaled,y_train)\n",
    "en.score(X_train_scaled,y_train)"
   ]
  },
  {
   "cell_type": "code",
   "execution_count": 721,
   "metadata": {},
   "outputs": [
    {
     "data": {
      "text/plain": [
       "0.8849751199296823"
      ]
     },
     "execution_count": 721,
     "metadata": {},
     "output_type": "execute_result"
    }
   ],
   "source": [
    "en.score(X_test_scaled,y_test)"
   ]
  },
  {
   "cell_type": "code",
   "execution_count": 722,
   "metadata": {},
   "outputs": [
    {
     "data": {
      "text/plain": [
       "883070538.2892028"
      ]
     },
     "execution_count": 722,
     "metadata": {},
     "output_type": "execute_result"
    }
   ],
   "source": [
    "mean_squared_error(y_test, en.predict(X_test_scaled))"
   ]
  },
  {
   "cell_type": "code",
   "execution_count": 723,
   "metadata": {},
   "outputs": [
    {
     "data": {
      "text/plain": [
       "0.9728117072724128"
      ]
     },
     "execution_count": 723,
     "metadata": {},
     "output_type": "execute_result"
    }
   ],
   "source": [
    "gb = GradientBoostingRegressor(max_depth= 5, n_estimators=100, learning_rate=.05)\n",
    "gb.fit(X_train_scaled,y_train)\n",
    "gb.score(X_train_scaled,y_train)"
   ]
  },
  {
   "cell_type": "code",
   "execution_count": 724,
   "metadata": {},
   "outputs": [
    {
     "data": {
      "text/plain": [
       "0.9414284657504846"
      ]
     },
     "execution_count": 724,
     "metadata": {},
     "output_type": "execute_result"
    }
   ],
   "source": [
    "gb.score(X_test_scaled,y_test)"
   ]
  },
  {
   "cell_type": "code",
   "execution_count": 725,
   "metadata": {},
   "outputs": [
    {
     "data": {
      "text/plain": [
       "449666161.32548565"
      ]
     },
     "execution_count": 725,
     "metadata": {},
     "output_type": "execute_result"
    }
   ],
   "source": [
    "mean_squared_error(y_test, gb.predict(X_test_scaled))"
   ]
  },
  {
   "cell_type": "code",
   "execution_count": 726,
   "metadata": {},
   "outputs": [
    {
     "data": {
      "text/plain": [
       "0.9802080058852836"
      ]
     },
     "execution_count": 726,
     "metadata": {},
     "output_type": "execute_result"
    }
   ],
   "source": [
    "from xgboost.sklearn import XGBRegressor\n",
    "\n",
    "xgb = XGBRegressor(max_depth= 5, n_estimators=100)\n",
    "xgb.fit(X_train_scaled,y_train)\n",
    "xgb.score(X_train_scaled,y_train)"
   ]
  },
  {
   "cell_type": "code",
   "execution_count": 727,
   "metadata": {},
   "outputs": [
    {
     "data": {
      "text/plain": [
       "0.9349307398173201"
      ]
     },
     "execution_count": 727,
     "metadata": {},
     "output_type": "execute_result"
    }
   ],
   "source": [
    "xgb.score(X_test_scaled,y_test)"
   ]
  },
  {
   "cell_type": "code",
   "execution_count": 728,
   "metadata": {},
   "outputs": [
    {
     "data": {
      "text/plain": [
       "499550589.2331473"
      ]
     },
     "execution_count": 728,
     "metadata": {},
     "output_type": "execute_result"
    }
   ],
   "source": [
    "mean_squared_error(y_test, xgb.predict(X_test_scaled))"
   ]
  },
  {
   "cell_type": "code",
   "execution_count": 729,
   "metadata": {},
   "outputs": [
    {
     "name": "stdout",
     "output_type": "stream",
     "text": [
      "Fitting 5 folds for each of 1 candidates, totalling 5 fits\n"
     ]
    },
    {
     "name": "stderr",
     "output_type": "stream",
     "text": [
      "[Parallel(n_jobs=-1)]: Done   5 out of   5 | elapsed:    6.9s finished\n"
     ]
    },
    {
     "data": {
      "text/plain": [
       "{'gamma': 0, 'max_depth': 2, 'n_estimators': 600}"
      ]
     },
     "execution_count": 729,
     "metadata": {},
     "output_type": "execute_result"
    }
   ],
   "source": [
    "parameters = {\n",
    "    'n_estimators': [600],\n",
    "    'max_depth': [2],\n",
    "    'gamma': [0]\n",
    "}\n",
    "\n",
    "gscv = GridSearchCV(xgb, parameters, cv=5, verbose=1, n_jobs=-1)\n",
    "gscv.fit(X_train_scaled,y_train)\n",
    "gscv.best_params_"
   ]
  },
  {
   "cell_type": "code",
   "execution_count": 730,
   "metadata": {},
   "outputs": [
    {
     "data": {
      "text/plain": [
       "0.9643387268420495"
      ]
     },
     "execution_count": 730,
     "metadata": {},
     "output_type": "execute_result"
    }
   ],
   "source": [
    "gscv.score(X_train_scaled,y_train)"
   ]
  },
  {
   "cell_type": "code",
   "execution_count": 731,
   "metadata": {},
   "outputs": [
    {
     "data": {
      "text/plain": [
       "0.9468231383409403"
      ]
     },
     "execution_count": 731,
     "metadata": {},
     "output_type": "execute_result"
    }
   ],
   "source": [
    "gscv.score(X_test_scaled,y_test)"
   ]
  },
  {
   "cell_type": "code",
   "execution_count": 732,
   "metadata": {},
   "outputs": [
    {
     "data": {
      "text/plain": [
       "408250109.2032352"
      ]
     },
     "execution_count": 732,
     "metadata": {},
     "output_type": "execute_result"
    }
   ],
   "source": [
    "mean_squared_error(y_test, gscv.predict(X_test_scaled))"
   ]
  },
  {
   "cell_type": "code",
   "execution_count": 733,
   "metadata": {},
   "outputs": [
    {
     "data": {
      "text/plain": [
       "{'Electrical_SBrkr': 0.00057110225,\n",
       " 'Roof Style_Hip': 0.0017133066,\n",
       " 'Foundation_PConc': 0.00513992,\n",
       " 'Full Bath': 0.010850943,\n",
       " 'Fireplaces': 0.03083952,\n",
       " 'Garage Finish_Fin': 0.0068532266,\n",
       " 'Garage Yr Blt': 0.040548258,\n",
       " 'Mas Vnr Area': 0.03597944,\n",
       " 'Exterior 2nd_VinylSd': 0.0039977157,\n",
       " 'Neighborhood_NridgHt': 0.0028555111,\n",
       " 'Bsmt Qual': 0.010850943,\n",
       " 'Kitchen Qual_Ex': 0.0034266133,\n",
       " 'Half Bath': 0.017133066,\n",
       " 'Mas Vnr Type_Stone': 0.0011422045,\n",
       " 'Kitchen Qual_Gd': 0.0068532266,\n",
       " 'Exterior 1st_VinylSd': 0.0011422045,\n",
       " 'Bsmt Exposure_Gd': 0.011422045,\n",
       " 'Lot Area': 0.109651625,\n",
       " 'Garage Qual': 0.0062821247,\n",
       " 'Neighborhood_StoneBr': 0.007424329,\n",
       " 'Paved Drive_Y': 0.002284409,\n",
       " 'MS Zoning_RL': 0.008566533,\n",
       " 'Sale Type_New': 0.009137636,\n",
       " 'Garage Area': 0.05596802,\n",
       " 'Gr Liv Area': 0.16504854,\n",
       " 'total_square_feet': 0.15933752,\n",
       " 'Year Built': 0.068532266,\n",
       " 'Fireplace Qu_Ex': 0.0034266133,\n",
       " 'Heating QC': 0.011422045,\n",
       " 'Mas Vnr Type_BrkFace': 0.0028555111,\n",
       " 'Bsmt Full Bath': 0.021130782,\n",
       " 'Garage Cars': 0.0028555111,\n",
       " 'Lot Shape_IR1': 0.0057110223,\n",
       " 'TotRms AbvGrd': 0.009708738,\n",
       " 'Garage Type_Attchd': 0.009137636,\n",
       " 'Central Air_Y': 0.0028555111,\n",
       " 'Overall Qual': 0.06624786,\n",
       " 'Neighborhood_NoRidge': 0.0034266133,\n",
       " 'Fireplace Qu_Gd': 0.00513992,\n",
       " 'BsmtFin Type 1_GLQ': 0.007424329,\n",
       " 'Exter Qual': 0.0119931465,\n",
       " 'Year Remod/Add': 0.04625928,\n",
       " 'Garage Cond': 0.0068532266}"
      ]
     },
     "execution_count": 733,
     "metadata": {},
     "output_type": "execute_result"
    }
   ],
   "source": [
    "{feature:gscv.best_estimator_.feature_importances_[i] for i, feature in enumerate(features)}"
   ]
  },
  {
   "cell_type": "code",
   "execution_count": 734,
   "metadata": {},
   "outputs": [
    {
     "data": {
      "text/plain": [
       "0.87530653318746"
      ]
     },
     "execution_count": 734,
     "metadata": {},
     "output_type": "execute_result"
    }
   ],
   "source": [
    "ab = AdaBoostRegressor()\n",
    "ab.fit(X_train_scaled,y_train)\n",
    "ab.score(X_train_scaled,y_train)"
   ]
  },
  {
   "cell_type": "code",
   "execution_count": 735,
   "metadata": {},
   "outputs": [
    {
     "data": {
      "text/plain": [
       "0.8730994945144182"
      ]
     },
     "execution_count": 735,
     "metadata": {},
     "output_type": "execute_result"
    }
   ],
   "source": [
    "ab.score(X_test_scaled,y_test)"
   ]
  },
  {
   "cell_type": "code",
   "execution_count": 736,
   "metadata": {},
   "outputs": [
    {
     "data": {
      "text/plain": [
       "974242247.5886798"
      ]
     },
     "execution_count": 736,
     "metadata": {},
     "output_type": "execute_result"
    }
   ],
   "source": [
    "mean_squared_error(y_test, ab.predict(X_test_scaled))"
   ]
  },
  {
   "cell_type": "code",
   "execution_count": 737,
   "metadata": {},
   "outputs": [],
   "source": [
    "# Plot predictions and how far off you are HERE"
   ]
  },
  {
   "cell_type": "markdown",
   "metadata": {},
   "source": [
    "## Submit to Kaggle"
   ]
  },
  {
   "cell_type": "code",
   "execution_count": 738,
   "metadata": {},
   "outputs": [],
   "source": [
    "# https://www.kaggle.com/dansbecker/submitting-from-a-kernel\n",
    "# Read the test data\n",
    "test = pd.read_csv('../data/test.csv')\n",
    "\n",
    "add_up_square_feet(test)\n",
    "    \n",
    "# Replace null String values\n",
    "test['Mas Vnr Type'].fillna(\"None\", inplace=True)\n",
    "\n",
    "for rating_col in ['Exter Qual', 'Exter Cond','Bsmt Qual', 'Bsmt Cond','Heating QC', 'Garage Qual', 'Garage Cond']:\n",
    "    test[rating_col] = test[rating_col].map({'Ex':5, 'Gd':4, 'TA':3, 'Fa':2, 'Po':1, 'NA': 0})\n",
    "\n",
    "# Zero out numbers\n",
    "for col in test.select_dtypes(\"float64\").columns.tolist():\n",
    "    test[col].fillna(0, inplace=True)\n",
    "\n",
    "for col in test.select_dtypes(\"float64\").columns.tolist():\n",
    "    test[col] = test[col].astype(\"int64\")    \n",
    "\n",
    "test[yr_columns] =  test[yr_columns].applymap(lambda x: x**2)    \n",
    "    \n",
    "for val in string_cols:\n",
    "    test[val].fillna(\"NA\", inplace=True)\n",
    "\n",
    "for col in test.select_dtypes('object').columns.tolist():\n",
    "    test[col].fillna(\"NA\", inplace=True)\n",
    "#     test.rename(columns={f\"{col}\":f\"{col}_string\"}, inplace=True)        \n",
    " \n",
    "# new_le = LabelEncoder()\n",
    "\n",
    "# for col in test[features].select_dtypes('object').columns.tolist():\n",
    "#     new_le.fit(test[col].unique())\n",
    "#     test[col] = new_le.transform(test[col])\n",
    "\n",
    "\n",
    "test = pd.get_dummies(test)\n",
    "    \n",
    "# Treat the test data in the same way as training data. In this case, pull same columns.\n",
    "test_X = test[features]\n",
    "\n",
    "scaled_test_X = ss.transform(test_X)\n",
    "\n",
    "# Use the model to make predictions\n",
    "predicted_prices = gscv.predict(scaled_test_X)\n",
    "my_submission = pd.DataFrame({'Id': test.Id, 'SalePrice': predicted_prices})\n",
    "\n",
    "file_name = '../submissions/new_kaggle.csv'\n",
    "my_submission.to_csv(file_name, index=False)"
   ]
  },
  {
   "cell_type": "code",
   "execution_count": 739,
   "metadata": {},
   "outputs": [],
   "source": [
    "import subprocess, webbrowser\n",
    "result = subprocess.check_output(f'kaggle competitions submit -f {file_name} -m \"uploading a new set\" dsi-us-5-project-2-regression-challenge')\n",
    "if result == b'Successfully submitted to DSI-US-5 Project 2 Regression Challenge':\n",
    "    webbrowser.open(\"https://www.kaggle.com/c/dsi-us-5-project-2-regression-challenge/submissions?sortBy=privateScore&group=all&page=1&pageSize=20\")\n",
    "else:\n",
    "    print(result)"
   ]
  },
  {
   "cell_type": "code",
   "execution_count": null,
   "metadata": {},
   "outputs": [],
   "source": []
  }
 ],
 "metadata": {
  "kernelspec": {
   "display_name": "Python 3",
   "language": "python",
   "name": "python3"
  },
  "language_info": {
   "codemirror_mode": {
    "name": "ipython",
    "version": 3
   },
   "file_extension": ".py",
   "mimetype": "text/x-python",
   "name": "python",
   "nbconvert_exporter": "python",
   "pygments_lexer": "ipython3",
   "version": "3.6.5"
  }
 },
 "nbformat": 4,
 "nbformat_minor": 2
}
